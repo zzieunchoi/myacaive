{
 "cells": [
  {
   "cell_type": "markdown",
   "id": "internal-shopping",
   "metadata": {},
   "source": [
    "<p style=\"font-size: 33px; font-weight: 700; margin-bottom: 3rem\">OOP</p>\n",
    "\n",
    "\n",
    "\n",
    "- 객체(Object)\n",
    "- 객체지향프로그래밍(Object Oriented Programming)\n",
    "- 클래스(Class)와 객체(Object)\n"
   ]
  },
  {
   "cell_type": "markdown",
   "id": "veterinary-millennium",
   "metadata": {},
   "source": [
    "# 객체(Object)\n",
    "\n",
    "> Python에서 **모든 것은 객체(object)**입니다.\n",
    ">\n",
    "> 모든 객체는 **타입(type), 속성(attribute), 조작법(method)**을 가집니다.\n"
   ]
  },
  {
   "cell_type": "markdown",
   "id": "tutorial-shock",
   "metadata": {},
   "source": [
    "객체(Object)의 특징\n",
    "\n",
    "- **타입(type)**: 어떤 연산자(operator)와 조작(method)이 가능한가? \n",
    "- **속성(attribute)**: 어떤 상태(데이터)를 가지는가?\n",
    "- **조작법(method)**: 어떤 행위(함수)를 할 수 있는가?"
   ]
  },
  {
   "cell_type": "markdown",
   "id": "brave-contents",
   "metadata": {},
   "source": [
    "# 객체 지향 프로그래밍(Object-Oriented Programming)\n",
    "\n",
    "Object가 중심(oriented)이 되는 프로그래밍\n",
    "\n",
    "**<wikipedia - 객체지향 프로그래밍>**\n",
    ">\n",
    "> 객체 지향 프로그래밍(영어: Object-Oriented Programming, OOP)은 컴퓨터 프로그래밍의 패러다임의 하나입니다. \n",
    ">\n",
    "> 객체 지향 프로그래밍은 컴퓨터 프로그램을 명령어의 목록으로 보는 시각에서 벗어나 여러 개의 독립된 단위, 즉 \"객체\"들의 모임으로 파악하고자 하는 것입니다.\n",
    "\n",
    "\n"
   ]
  },
  {
   "cell_type": "markdown",
   "id": "devoted-daily",
   "metadata": {},
   "source": [
    "## 절차 중심 vs. 객체 중심\n",
    "\n",
    "> 프로그래밍 패러다임: 어떻게 프로그램을 작성할 것인가"
   ]
  },
  {
   "cell_type": "markdown",
   "id": "invalid-dimension",
   "metadata": {},
   "source": [
    "## 객체 중심의 장점\n",
    "\n",
    "\n",
    "**<wikipedia - 객체지향 프로그래밍>**\n",
    "> 객체 지향 프로그래밍은 프로그램을 유연하고 변경이 용이하게 만들기 때문에 대규모 소프트웨어 개발에 많이 사용됩니다. \n",
    ">\n",
    "> 또한 프로그래밍을 더 배우기 쉽게 하고 소프트웨어 개발과 보수를 간편하게 하며, 보다 직관적인 코드 분석을 가능하게 하는 장점을 갖고 있습니다.\n",
    "\n",
    "- 코드의 **직관성**\n",
    "\n",
    "- 활용의 **용이성**\n",
    "\n",
    "- 변경의 **유연성**"
   ]
  },
  {
   "cell_type": "markdown",
   "id": "liberal-north",
   "metadata": {},
   "source": [
    "## OOP 기초"
   ]
  },
  {
   "cell_type": "markdown",
   "id": "christian-marathon",
   "metadata": {},
   "source": [
    "### 기본 문법\n",
    "\n",
    "```python\n",
    "# 클래스 정의\n",
    "class MyClass:\n",
    "    pass\n",
    "\n",
    "# 인스턴스 생성\n",
    "my_instance = MyClass()\n",
    "\n",
    "# 속성 접근\n",
    "my_instance.my_attribute\n",
    "\n",
    "# 메서드 호출\n",
    "my_instance.my_method()\n",
    "```"
   ]
  },
  {
   "cell_type": "markdown",
   "id": "minimal-generator",
   "metadata": {},
   "source": [
    "### 클래스(class)\n",
    "\n",
    "- 클래스는 공통된 속성(attribute)과 조작법(method)을 가진 객체들의 분류입니다."
   ]
  },
  {
   "cell_type": "markdown",
   "id": "utility-brake",
   "metadata": {},
   "source": [
    "### 인스턴스(Instance)\n",
    "- 특정 클래스(class)의 실제 데이터 예시(instance)입니다. \n",
    "- 파이썬에서 모든 것은 객체이고, **모든 객체는 특정 클래스의 인스턴스**입니다.\n",
    "\n",
    "```python\n",
    "# Person 클래스\n",
    "class Person:\n",
    "    pass\n",
    "\n",
    "# ssafykim은 Person 클래스의 인스턴스\n",
    "ssafykim = Person()\n",
    "```"
   ]
  },
  {
   "cell_type": "code",
   "execution_count": null,
   "id": "joint-location",
   "metadata": {},
   "outputs": [],
   "source": [
    "class Person:\n",
    "    pass"
   ]
  },
  {
   "cell_type": "code",
   "execution_count": null,
   "id": "accurate-bulgarian",
   "metadata": {},
   "outputs": [],
   "source": [
    "# Person 클래스의 인스턴스를 만들어봅시다.\n",
    "\n"
   ]
  },
  {
   "cell_type": "code",
   "execution_count": null,
   "id": "virgin-immune",
   "metadata": {},
   "outputs": [],
   "source": [
    "# ssafykim 변수에 담긴 인스턴스가 Person 클래스의 인스턴스인지 확인해봅시다.\n",
    "# isinstance 함수를 활용합니다.\n",
    "\n"
   ]
  },
  {
   "cell_type": "markdown",
   "id": "ruled-prior",
   "metadata": {},
   "source": [
    "## 속성(attribute)과 메서드(method)\n",
    "\n",
    "객체의 속성(상태, 데이터)과 조작법(함수)을 명확히 구분해 봅시다.\n",
    "\n",
    "| type         | attributes       | methods                                |\n",
    "| -------------| ---------------- | -------------------------------------- |\n",
    "| `complex`    | `.real`, `.imag` |              _                          |\n",
    "| `str`        |       _          | `.capitalize()`, `.join()`, `.split()` |\n",
    "| `list`       |       _          | `.append()`, `.reverse()`, `.sort()`   |\n",
    "| `dict`       |       _          | `.keys()`, `.values()`, `.items()`     |\n"
   ]
  },
  {
   "cell_type": "markdown",
   "id": "incredible-aurora",
   "metadata": {},
   "source": [
    "### 속성(attribute)\n",
    "\n",
    "- 속성(attribute)은 객체(object)의 상태/데이터를 뜻합니다.\n",
    "\n",
    "\n",
    "**활용법**\n",
    "\n",
    "```python\n",
    "<객체>.<속성>\n",
    "```\n",
    "\n",
    "**예시**\n",
    "\n",
    "```python\n",
    "person.name\n",
    "```\n",
    "\n",
    "- `Person` 클래스의 객체들이 가지게 될 데이터를 활용해봅시다."
   ]
  },
  {
   "cell_type": "markdown",
   "id": "aerial-stomach",
   "metadata": {},
   "source": [
    "### 메서드(method)\n",
    "\n",
    "- 특정 객체가 할 수 있는 행위(behavior)를 뜻 합니다.\n",
    "\n",
    "**활용법**\n",
    "```python\n",
    "<객체>.<메서드>()\n",
    "```\n",
    "\n",
    "**예시**\n",
    "```python\n",
    "person.talk()\n",
    "person.eat()\n",
    "```\n",
    "\n",
    "- `Person` 클래스에 공통적으로 적용 가능한 함수인 `메서드`를 활용해봅시다."
   ]
  },
  {
   "cell_type": "markdown",
   "id": "impressive-sucking",
   "metadata": {},
   "source": [
    "# 인스턴스(instance)"
   ]
  },
  {
   "cell_type": "markdown",
   "id": "selective-deposit",
   "metadata": {},
   "source": [
    "## 인스턴스(instance) 생성\n",
    "* 정의된 클래스(`class`)에 속하는 객체를 해당 클래스의 인스턴스(instance)라고 합니다.\n",
    "\n",
    "* `Person` 클래스의 인스턴스는 `Person()`을 호출함으로써 생성됩니다.\n",
    "\n",
    "* `type()` 함수를 통해 생성된 객체의 클래스를 확인할 수 있습니다.\n",
    "\n",
    "\n",
    "**활용법**\n",
    "\n",
    "\n",
    "```python\n",
    "# 인스턴스 = 클래스()\n",
    "person1 = Person()\n",
    "```\n",
    "\n",
    "- `person1`은 사용자가 정의한(user-defined) `Person`이라는 데이터 타입(data type)의 인스턴스입니다."
   ]
  },
  {
   "cell_type": "code",
   "execution_count": null,
   "id": "a70cb0bc",
   "metadata": {},
   "outputs": [],
   "source": [
    "class Person:\n",
    "    pass"
   ]
  },
  {
   "cell_type": "code",
   "execution_count": null,
   "id": "closed-disney",
   "metadata": {},
   "outputs": [],
   "source": [
    "# Person 클래스의 인스턴스 p1과 p2를 생성해봅시다.\n",
    "# 두 인스턴스의 type을 출력해보세요.\n",
    "\n"
   ]
  },
  {
   "cell_type": "markdown",
   "id": "sophisticated-remainder",
   "metadata": {},
   "source": [
    "## 인스턴스 변수\n",
    "* 인스턴스의 속성(attribute)\n",
    "* 각 인스턴스들의 고유한 데이터\n",
    "* 생성자 메서드에서 `self.변수명`로 정의(생성자 메서드는 뒤에 학습합니다.)\n",
    "* 인스턴스가 생성된 이후 `인스턴스.변수명`로 접근 및 할당\n",
    "\n",
    "---\n",
    "**활용법**\n",
    "    \n",
    "```python\n",
    "class Person:\n",
    "    pass\n",
    "\n",
    "p1 = Person()\n",
    "p1.name = 'jack'\n",
    "p1.age = 25\n",
    "```"
   ]
  },
  {
   "cell_type": "code",
   "execution_count": null,
   "id": "seven-edward",
   "metadata": {},
   "outputs": [],
   "source": [
    "# 위와 같은 Person 클래스를 똑같이 정의해봅시다.\n",
    "\n"
   ]
  },
  {
   "cell_type": "code",
   "execution_count": null,
   "id": "involved-zimbabwe",
   "metadata": {},
   "outputs": [],
   "source": [
    "# Person 클래스의 인스턴스를 생성하고, me 변수에 저장합니다.\n",
    "# me의 인스턴스 변수 name을 본인 이름으로 설정합니다.\n",
    "\n"
   ]
  },
  {
   "cell_type": "code",
   "execution_count": null,
   "id": "brilliant-manufacturer",
   "metadata": {},
   "outputs": [],
   "source": [
    "# me 인스턴스의 name 변수에 접근하여 값을 출력해봅시다.\n",
    "\n"
   ]
  },
  {
   "cell_type": "code",
   "execution_count": null,
   "id": "adjacent-japan",
   "metadata": {},
   "outputs": [],
   "source": [
    "# me 인스턴스의 name 변수의 값을 새로운 이름으로 할당하고 다시 출력해봅시다.\n",
    "\n"
   ]
  },
  {
   "cell_type": "markdown",
   "id": "soviet-yemen",
   "metadata": {},
   "source": [
    "## 인스턴스 메서드\n",
    "\n",
    "> 메서드란?\n",
    "> - 특정 데이터 타입(또는 클래스)의 객체에 공통적으로 적용 가능한 행위(behavior)들을 의미합니다.\n",
    "\n",
    "* 인스턴스 메서드는 인스턴스가 사용할 메서드에 해당합니다.\n",
    "* 클래스 내부에 정의되는 메서드는 기본적으로 인스턴스 메서드로 생성됩니다.\n",
    "* **메서드 호출시, 첫번째 인자로 인스턴스 자기자신에 해당하는 `self`가 전달됩니다**\n",
    "\n",
    "**활용법**\n",
    "\n",
    "```python\n",
    "class MyClass:\n",
    "    def instance_method(self, arg1, arg2, ...):\n",
    "        ...\n",
    "\n",
    "my_instance = MyClass()\n",
    "# 인스턴스 생성 후 메서드를 호출하면 자동으로 첫 번째 인자로 인스턴스(my_instance)가 들어갑니다.\n",
    "my_instance.instance_method(.., ..)  \n",
    "```"
   ]
  },
  {
   "cell_type": "code",
   "execution_count": null,
   "id": "constant-backing",
   "metadata": {},
   "outputs": [],
   "source": [
    "# 위의 활용법을 참고하여 Person 클래스와 talk() 메서드를 정의했습니다."
   ]
  },
  {
   "cell_type": "code",
   "execution_count": null,
   "id": "acute-inclusion",
   "metadata": {},
   "outputs": [],
   "source": [
    "class Person:\n",
    "    def talk(self):\n",
    "        print('안녕!')"
   ]
  },
  {
   "cell_type": "code",
   "execution_count": null,
   "id": "mighty-calculator",
   "metadata": {},
   "outputs": [],
   "source": [
    "# Person 클래스의 인스턴스 p1, p2를 생성하고 각각 talk 메서드를 실행해봅시다.\n",
    "\n"
   ]
  },
  {
   "cell_type": "markdown",
   "id": "basic-punch",
   "metadata": {},
   "source": [
    "- 메서드도 함수이기 때문에 추가적인 인자를 받을 수 있습니다.\n",
    "- `Person` 클래스를 재정의 하며 `talk` 메서드를 정의하고, `eat` 메서드를 추가로 정의해봅시다.\n",
    "- `eat` 메서드는 `food` 라는 이름의 인자를 받아서 출력합니다.\n",
    "- 추가적인 인자를 받기 위해서는 아래와 같은 모습으로 코드가 작성되어야 합니다.\n",
    "\n",
    "```python\n",
    "class MyClass:\n",
    "    def method1(self):\n",
    "        print('Hi')\n",
    "    \n",
    "    def method2(self, arg):\n",
    "        print(arg)\n",
    "```"
   ]
  },
  {
   "cell_type": "code",
   "execution_count": null,
   "id": "occupational-waste",
   "metadata": {},
   "outputs": [],
   "source": [
    "class Person:\n",
    "    def talk(self):\n",
    "        print('안녕')\n",
    "    \n",
    "    def eat(self, food):\n",
    "        print(f'냠냠 {food}')"
   ]
  },
  {
   "cell_type": "code",
   "execution_count": null,
   "id": "desirable-johns",
   "metadata": {},
   "outputs": [],
   "source": [
    "# Person 클래스의 인스턴스 p1을 생성하고 eat() 메서드를 인자와 함께 호출해봅시다.\n",
    "\n"
   ]
  },
  {
   "cell_type": "code",
   "execution_count": null,
   "id": "standard-large",
   "metadata": {},
   "outputs": [],
   "source": [
    "# 기본 인자, 가변 인자 리스트 등 함수의 인자와 동일하게 매개변수를 정의할 수 있습니다.\n",
    "# Person 클래스를 재정의하며, eat() 메서드를 정의할 때 food 인자의 기본 값을 원하는 음식으로 설정해봅시다.\n",
    "\n"
   ]
  },
  {
   "cell_type": "code",
   "execution_count": null,
   "id": "opposite-annual",
   "metadata": {},
   "outputs": [],
   "source": [
    "# Person 클래스의 인스턴스 p1을 생성하고, eat() 메서드를 인자 있이/없이 두번 호출해봅시다.\n",
    "\n"
   ]
  },
  {
   "cell_type": "markdown",
   "id": "meaningful-princess",
   "metadata": {},
   "source": [
    "##  `self` \n",
    "\n",
    "> 인스턴스 자신(self)\n",
    "\n",
    "* Python에서 인스턴스 메서드는 **호출 시 첫번째 인자로 인스턴스 자신이 전달**되게 설계되었습니다. \n",
    "\n",
    "\n",
    "* 보통 매개변수명으로 `self`를 첫번째 인자로 정의 (다른 이름도 가능하지만 추천하지는 않습니다.)"
   ]
  },
  {
   "cell_type": "code",
   "execution_count": null,
   "id": "mediterranean-eligibility",
   "metadata": {},
   "outputs": [],
   "source": [
    "# 아래의 Person 클래스를 통해서 self가 무엇인지 확인해봅시다.\n",
    "class Person:\n",
    "    def test(self):\n",
    "        print(self)"
   ]
  },
  {
   "cell_type": "code",
   "execution_count": null,
   "id": "recreational-price",
   "metadata": {},
   "outputs": [],
   "source": [
    "# Person 클래스의 인스턴스 p1을 생성하고 test() 메서드를 호출하여 self를 확인해봅시다.\n",
    "\n"
   ]
  },
  {
   "cell_type": "code",
   "execution_count": null,
   "id": "sublime-department",
   "metadata": {},
   "outputs": [],
   "source": [
    "# p1을 출력하여 비교해봅시다.\n",
    "\n"
   ]
  },
  {
   "cell_type": "markdown",
   "id": "soviet-attempt",
   "metadata": {},
   "source": [
    "### 생성자(constructor) 메서드\n",
    "- 인스턴스 객체가 생성될 때 자동으로 호출되는 함수입니다.\n",
    "- 반드시 `__init__` 이라는 이름으로 정의합니다.\n",
    "\n",
    "---\n",
    "**활용법**\n",
    "\n",
    "```python\n",
    "class MyClass:\n",
    "    def __init__(self):\n",
    "        print('생성될 때 자동으로 호출되는 메서드입니다.')\n",
    "```\n",
    "\n",
    "- 생성자를 활용하면 인스턴스가 생성될 때 인스턴스의 속성을 정의할 수 있습니다.\n"
   ]
  },
  {
   "cell_type": "code",
   "execution_count": null,
   "id": "australian-article",
   "metadata": {},
   "outputs": [],
   "source": [
    "class Person:\n",
    "    def __init__(self, name):\n",
    "        self.name = name\n",
    "    \n",
    "    def talk(self):\n",
    "        print(f'I am {self.name}')"
   ]
  },
  {
   "cell_type": "code",
   "execution_count": null,
   "id": "incomplete-nepal",
   "metadata": {},
   "outputs": [],
   "source": [
    "# 자신의 이름을 인자로 넘기며 Person의 인스턴스 p1를 생성해봅시다.\n",
    "\n"
   ]
  },
  {
   "cell_type": "code",
   "execution_count": null,
   "id": "traditional-ecology",
   "metadata": {},
   "outputs": [],
   "source": [
    "# talk() 메서드를 호출해 봅시다.\n",
    "\n"
   ]
  },
  {
   "cell_type": "code",
   "execution_count": null,
   "id": "hungry-mistress",
   "metadata": {},
   "outputs": [],
   "source": [
    "# talk 메서드를 클래스에서 메서드를 실행해봅시다. self는 정말 빈자리일까요?\n",
    "\n"
   ]
  },
  {
   "cell_type": "markdown",
   "id": "rolled-junior",
   "metadata": {},
   "source": [
    "### 소멸자(destructor) 메서드\n",
    "- 인스턴스 객체가 소멸(파괴)되기 직전에 자동으로 호출되는 함수입니다.\n",
    "- 반드시 `__del__` 이라는 이름으로 정의합니다.\n",
    "\n",
    "---\n",
    "\n",
    "**활용법**\n",
    "\n",
    "```python\n",
    "# 소멸자 정의\n",
    "def __del__(self):\n",
    "    print('소멸될 때 자동으로 호출되는 메서드입니다.')\n",
    "    \n",
    "# 소멸자 활용\n",
    "del 인스턴스\n",
    "```"
   ]
  },
  {
   "cell_type": "code",
   "execution_count": null,
   "id": "basic-error",
   "metadata": {},
   "outputs": [],
   "source": [
    "# 생성자와 소멸자를 만들어봅시다.\n",
    "# 생성자 메서드는 __init__으로 정의하고,\n",
    "# 소멸자 메서드는 __del__라는 이름으로 정의합니다.\n",
    "\n"
   ]
  },
  {
   "cell_type": "code",
   "execution_count": null,
   "id": "dressed-minority",
   "metadata": {},
   "outputs": [],
   "source": [
    "# Person 클래스의 인스턴스를 만들고 person1 변수에 할당합니다.\n",
    "\n"
   ]
  },
  {
   "cell_type": "code",
   "execution_count": null,
   "id": "happy-friend",
   "metadata": {},
   "outputs": [],
   "source": [
    "# del 키워드를 이용하여 소멸자를 활용해봅시다. \n",
    "\n"
   ]
  },
  {
   "cell_type": "markdown",
   "id": "affecting-illness",
   "metadata": {},
   "source": [
    "## 속성(Attribute) 정의\n",
    "\n",
    "- 특정 데이터 타입(또는 클래스)의 객체들이 가지게 될 상태/데이터를 의미합니다.\n",
    "\n",
    "- `self.<속성명> = <값>` 혹은 `<인스턴스>.<속성명> = <값>`으로 설정합니다\n",
    "\n",
    "---\n",
    "**활용법**\n",
    "\n",
    "```python\n",
    "class Person:\n",
    "    def __init__(self, name):\n",
    "        self.name = name\n",
    "        \n",
    "    def talk(self):\n",
    "        print(f'안녕, 나는 {self.name}')\n",
    "```"
   ]
  },
  {
   "cell_type": "code",
   "execution_count": null,
   "id": "mediterranean-stake",
   "metadata": {},
   "outputs": [],
   "source": [
    "# 인스턴스의 변수, 즉 개별 인스턴스들의 속성 데이터를 초기화와 동시에 정의해봅시다.\n",
    "# 아래 Person 클래스는 name이라는 속성이 정의되어 있습니다.\n",
    "\n",
    "class Person:\n",
    "    def __init__(self, name):\n",
    "        self.name = name\n",
    "        \n",
    "    def talk(self):\n",
    "        print(f'안녕, 나는 {self.name}')"
   ]
  },
  {
   "cell_type": "code",
   "execution_count": null,
   "id": "abroad-canon",
   "metadata": {},
   "outputs": [],
   "source": [
    "# 속성 정의는 꼭 생성자(__init__) 메서드에 작성해야 하지는 않지만, 일반적으로 생성자 메서드에 많이 작성합니다.\n",
    "# 생성자 메서드를 통해 생성과 동시에 인스턴스 속성에 값을 할당할 수 있기 때문입니다.\n",
    "# 새로운 Person의 인스턴스 p1을 이름과 함께 초기화 하고, 이름을 출력해봅시다."
   ]
  },
  {
   "cell_type": "code",
   "execution_count": null,
   "id": "front-victorian",
   "metadata": {},
   "outputs": [],
   "source": []
  },
  {
   "cell_type": "code",
   "execution_count": null,
   "id": "spectacular-kazakhstan",
   "metadata": {},
   "outputs": [],
   "source": [
    "# 인스턴스 속성의 값을 변경할 수도 있습니다.\n",
    "# 위에서 생성한 p1 인스턴스의 name을 다른 값으로 할당해보고, talk 메서드를 실행해봅시다.\n",
    "\n"
   ]
  },
  {
   "cell_type": "code",
   "execution_count": null,
   "id": "alive-lending",
   "metadata": {},
   "outputs": [],
   "source": [
    "# 생성자 메서드도 함수이기 때문에, 인자의 개수가 맞지 않으면 에러가 발생합니다.\n",
    "# name인자 없이 새로운 Person의 인스턴스 p1을 생성해봅시다.\n",
    "\n"
   ]
  },
  {
   "cell_type": "code",
   "execution_count": null,
   "id": "square-fundamental",
   "metadata": {},
   "outputs": [],
   "source": [
    "# 위에서 생성한 인스턴스 p1을 del 연산자를 사용해 소멸시켜봅시다.\n",
    "\n"
   ]
  },
  {
   "cell_type": "markdown",
   "id": "checked-shadow",
   "metadata": {},
   "source": [
    "## 매직(스페셜) 메서드\n",
    "- 더블언더스코어(`__`)가 있는 메서드는 특별한 일을 하기 위해 만들어진 메서드이기 때문에 `스페셜 메서드` 혹은 `매직 메서드`라고 불립니다.\n",
    "- 매직(스페셜) 메서드 형태: `__someting__`\n",
    "```python\n",
    " '__str__(self)',\n",
    " '__len__(self)',\n",
    " '__repr__(self)',\n",
    " '__lt__(self, other)',\n",
    " '__le__(self, other)',\n",
    " '__eq__(self, other)',\n",
    " '__ne__(self, other)',\n",
    " '__gt__(self, other)',\n",
    " '__ge__(self, other)',\n",
    "```"
   ]
  },
  {
   "cell_type": "markdown",
   "id": "important-residence",
   "metadata": {},
   "source": [
    "### `__str__(self)` \n",
    "\n",
    "```python\n",
    "class Person:\n",
    "    def __str__(self):\n",
    "        return '객체 출력(print)시 보여줄 내용'\n",
    "```\n",
    "\n",
    "- 특정 객체를 출력(`print()`) 할 때 보여줄 내용을 정의할 수 있습니다."
   ]
  },
  {
   "cell_type": "code",
   "execution_count": null,
   "id": "attempted-explosion",
   "metadata": {},
   "outputs": [],
   "source": [
    "# dir() 함수를 통해 문자열 인스턴스가 활용 가능한 메서드를 확인해봅시다.\n",
    "# 아래 코드를 실행시켜 확인해보세요.\n",
    "\n",
    "dir('')"
   ]
  },
  {
   "cell_type": "code",
   "execution_count": 2,
   "id": "weird-there",
   "metadata": {},
   "outputs": [],
   "source": [
    "# Person 클래스를 생성했습니다.\n",
    "\n",
    "class Person:\n",
    "    def __init__(self, name):\n",
    "        self.name = name"
   ]
  },
  {
   "cell_type": "code",
   "execution_count": null,
   "id": "vocational-timer",
   "metadata": {},
   "outputs": [],
   "source": [
    "# Person의 인스턴스 p1을 생성 후 출력해봅시다.\n",
    "\n"
   ]
  },
  {
   "cell_type": "code",
   "execution_count": null,
   "id": "comparable-keeping",
   "metadata": {},
   "outputs": [],
   "source": [
    "# __str__() 매직메서드를 아래와 같이 정의했습니다.\n",
    "\n",
    "class Person:\n",
    "    def __init__(self, name):\n",
    "        self.name = name\n",
    "    \n",
    "    def __str__(self):\n",
    "        return f'나는 {self.name}'"
   ]
  },
  {
   "cell_type": "code",
   "execution_count": null,
   "id": "reasonable-cornell",
   "metadata": {},
   "outputs": [],
   "source": [
    "# 새로운 인스턴스 p2를 생성후 p2를 출력해봅시다.\n",
    "\n"
   ]
  },
  {
   "cell_type": "markdown",
   "id": "african-topic",
   "metadata": {},
   "source": [
    "## 실습\n",
    "\n",
    "> 매직메서드를 활용하여 인스턴스간의 비교연산(`>`, `==`)이 가능하도록 매직메서드를 정의해봅시다.\n",
    "1. `Person` 클래스를 정의합니다. \n",
    "2. 인스턴스 속성은 문자열 `name` 과 정수 `age`입니다. 두 속성 모두 생성자 함수에서 설정합니다.\n",
    "3. 인스턴스간 `age`의 대/소비교가 가능해야합니다.\n",
    "4.  `__gt__`메서드와 `__eq__`메서드를 활용합니다."
   ]
  },
  {
   "cell_type": "code",
   "execution_count": null,
   "id": "healthy-solomon",
   "metadata": {},
   "outputs": [],
   "source": [
    "# 아래 셀의 코드가 정상적으로 동작하도록 Person클래스를 정의해봅시다.\n",
    "\n"
   ]
  },
  {
   "cell_type": "code",
   "execution_count": null,
   "id": "charged-reaction",
   "metadata": {},
   "outputs": [],
   "source": [
    "p1 = Person('1', 1)\n",
    "p2 = Person('2', 2)\n",
    "p3 = Person('3', 1)\n",
    "\n",
    "print(p1 > p2)\n",
    "print(p1 == p3)\n",
    "print(p1 == p2)"
   ]
  },
  {
   "cell_type": "markdown",
   "id": "bearing-mistake",
   "metadata": {},
   "source": [
    "# 클래스 (class)\n",
    "\n",
    "> `class`: 객체들의 분류(class)를 정의할 때 쓰이는 키워드\n"
   ]
  },
  {
   "cell_type": "markdown",
   "id": "regulated-tribe",
   "metadata": {},
   "source": [
    "## 클래스(Class) 생성\n",
    "\n",
    "* 클래스 생성은 `class` 키워드와 정의하고자 하는 `<클래스의 이름>`으로 가능합니다.\n",
    "\n",
    "* `<클래스의 이름>`은 `PascalCase`로 정의합니다.\n",
    "\n",
    "* 클래스 내부에는 데이터와 함수를 정의할 수 있고, 이때 데이터는 **속성(attribute)** 정의된 함수는 **메서드(method)**로 부릅니다.\n",
    "\n",
    "---\n",
    "\n",
    "**활용법**\n",
    "\n",
    "```python\n",
    "class <클래스이름>:\n",
    "    <statement>\n",
    "```\n",
    "\n",
    "```python\n",
    "class ClassName:\n",
    "    statement\n",
    "```"
   ]
  },
  {
   "cell_type": "code",
   "execution_count": null,
   "id": "welcome-possibility",
   "metadata": {},
   "outputs": [],
   "source": [
    "# Person 이라는 이름의 class를 정의해봅시다. \n",
    "# 아래와 같이 \"\"\"(docstring)을 통해 클래스에 대한 설명(doc)도 함께 정의해 봅시다."
   ]
  },
  {
   "cell_type": "markdown",
   "id": "creative-algeria",
   "metadata": {},
   "source": [
    "```python\n",
    "class ClassName:\n",
    "    \"\"\"\n",
    "    이것은 ClassName 클래스입니다.\n",
    "    \"\"\"\n",
    "```"
   ]
  },
  {
   "cell_type": "code",
   "execution_count": null,
   "id": "pregnant-explosion",
   "metadata": {},
   "outputs": [],
   "source": [
    "# Person 클래스를 docstring과 함께 정의해 봅시다.\n",
    "class Person:\n",
    "    \"\"\"\n",
    "    이것은 Person 클래스(class)입니다.\n",
    "    \"\"\""
   ]
  },
  {
   "cell_type": "code",
   "execution_count": null,
   "id": "transsexual-graph",
   "metadata": {},
   "outputs": [],
   "source": [
    "# 앞서 정의한 Person 클래스의 docstring을 출력해봅시다.\n"
   ]
  },
  {
   "cell_type": "markdown",
   "id": "approximate-university",
   "metadata": {},
   "source": [
    "## 클래스 변수\n",
    "* 클래스의 속성(attribute)\n",
    "* 모든 인스턴스가 공유\n",
    "* 클래스 선언 내부에서 정의\n",
    "* `클래스.변수명`으로 접근 및 할당\n",
    "\n",
    "---\n",
    "\n",
    "**활용법**\n",
    "```python\n",
    "class Circle:\n",
    "    pi = 3.14\n",
    "    \n",
    "print(Circle.pi)\n",
    "```"
   ]
  },
  {
   "cell_type": "code",
   "execution_count": null,
   "id": "opened-reply",
   "metadata": {},
   "outputs": [],
   "source": [
    "# 위의 예시 코드대로 Circle 클래스를 생성해봅시다.\n",
    "\n"
   ]
  },
  {
   "cell_type": "code",
   "execution_count": null,
   "id": "sixth-capture",
   "metadata": {},
   "outputs": [],
   "source": [
    "# Circle 클래스의 인스턴스 c1, c2를 생성해봅시다.\n",
    "\n"
   ]
  },
  {
   "cell_type": "code",
   "execution_count": null,
   "id": "robust-alliance",
   "metadata": {},
   "outputs": [],
   "source": []
  },
  {
   "cell_type": "code",
   "execution_count": null,
   "id": "secondary-ready",
   "metadata": {},
   "outputs": [],
   "source": [
    "# 클래스 변수 pi에 접근해봅시다.\n",
    "\n"
   ]
  },
  {
   "cell_type": "code",
   "execution_count": null,
   "id": "comfortable-pipeline",
   "metadata": {},
   "outputs": [],
   "source": [
    "# 인스턴스 c1, c2에서 pi 값을 출력해봅시다.\n",
    "\n"
   ]
  },
  {
   "cell_type": "code",
   "execution_count": null,
   "id": "outstanding-agriculture",
   "metadata": {},
   "outputs": [],
   "source": [
    "# c1의 pi 값을 3.141592로 변경하여 봅시다.\n",
    "\n"
   ]
  },
  {
   "cell_type": "code",
   "execution_count": null,
   "id": "widespread-happiness",
   "metadata": {},
   "outputs": [],
   "source": [
    "# c1, c2에서의 pi값을 각각 출력해봅시다.\n",
    "\n"
   ]
  },
  {
   "cell_type": "code",
   "execution_count": null,
   "id": "comparative-voltage",
   "metadata": {},
   "outputs": [],
   "source": [
    "# Circle의 pi를 출력해봅시다.\n",
    "\n"
   ]
  },
  {
   "cell_type": "markdown",
   "id": "necessary-therapist",
   "metadata": {},
   "source": [
    "## 클래스 메서드(class method)\n",
    "* 클래스가 사용할 메서드에 해당합니다.\n",
    "* `@classmethod` 데코레이터를 사용하여 정의합니다.\n",
    "* **메서드 호출시, 첫 번째 인자로 클래스 `cls`가 전달됩니다**\n",
    "\n",
    "---\n",
    "\n",
    "**활용법**\n",
    "\n",
    "```python\n",
    "class MyClass:\n",
    "    @classmethod\n",
    "    def class_method(cls, arg1, arg2, ...):\n",
    "        ...\n",
    "\n",
    "# 자동으로 첫 번째 인자로 클래스(MyClass)가 들어갑니다.\n",
    "MyClass.class_method(.., ..)  \n",
    "```"
   ]
  },
  {
   "cell_type": "markdown",
   "id": "amazing-security",
   "metadata": {},
   "source": [
    "## 스태틱 메서드(static method)\n",
    "* 클래스가 사용할 메서드에 해당합니다.\n",
    "* 인스턴스와 클래스의 속성과 무관한 메서드입니다.\n",
    "* `@staticmethod` 데코레이터를 사용하여 정의합니다.\n",
    "* **호출시, 어떠한 인자도 전달되지 않습니다**\n",
    "* 속성을 다루지 않고 단지 기능(행동)만을 하는 메서드를 정의할 때 사용합니다.\n",
    "\n",
    "\n",
    "---\n",
    "\n",
    "**활용법**\n",
    "\n",
    "```python\n",
    "class MyClass:\n",
    "    @staticmethod\n",
    "    def static_method(arg1, arg2, ...):\n",
    "        ...\n",
    "\n",
    "MyClass.static_method(.., ..)\n",
    "```"
   ]
  },
  {
   "cell_type": "code",
   "execution_count": null,
   "id": "severe-astronomy",
   "metadata": {},
   "outputs": [],
   "source": [
    "# MyClass 클래스를 정의해 두었습니다.\n",
    "\n",
    "class MyClass:\n",
    "    \n",
    "    def instance_method(self):\n",
    "        return self\n",
    "    \n",
    "    @classmethod\n",
    "    def class_method(cls):\n",
    "        return cls\n",
    "    \n",
    "    @staticmethod\n",
    "    def static_method(arg):\n",
    "        return arg"
   ]
  },
  {
   "cell_type": "code",
   "execution_count": null,
   "id": "insured-technical",
   "metadata": {},
   "outputs": [],
   "source": [
    "# MyClass 클래스의 인스턴스 mc를 생성해봅시다.\n",
    "\n"
   ]
  },
  {
   "cell_type": "code",
   "execution_count": null,
   "id": "specific-summit",
   "metadata": {},
   "outputs": [],
   "source": [
    "# 인스턴스 메서드를 호출하여 반환된 결과(self)와 인스턴스(mc)를 비교해봅시다.\n",
    "# 1. id를 출력해 보고, 같은 id인지 확인\n",
    "# 2. == 연산자를 확인해 비교\n",
    "\n"
   ]
  },
  {
   "cell_type": "code",
   "execution_count": null,
   "id": "studied-document",
   "metadata": {},
   "outputs": [],
   "source": [
    "# 클래스 메서드를 호출하여 반환된 결과(cls)와 인스턴스(mc)를 비교해봅시다.\n",
    "# 1. id를 출력해 보고, 같은 id인지 확인\n",
    "# 2. == 연산자를 확인해 비교\n",
    "\n"
   ]
  },
  {
   "cell_type": "code",
   "execution_count": null,
   "id": "native-packet",
   "metadata": {},
   "outputs": [],
   "source": [
    "# 스태틱 메서드를 호출하고 반환된 결과(arg)를 확인해봅시다.\n",
    "# 인스턴스 메서드, 클래스 메서드처럼 자동으로 전달되는 인자가 없습니다.\n",
    "\n"
   ]
  },
  {
   "cell_type": "markdown",
   "id": "realistic-absence",
   "metadata": {},
   "source": [
    "## 인스턴스와 클래스 간의 이름 공간 (namespace)\n",
    "\n",
    "* 클래스를 정의하면 클래스와 해당하는 이름 공간이 생성됩니다.\n",
    "* 인스턴스를 만들면 인스턴스 객체가 생성되고 이름 공간이 생성됩니다.\n",
    "* 인스턴스에서 특정 속성에 접근하면, 인스턴스-클래스 순으로 탐색합니다."
   ]
  },
  {
   "cell_type": "code",
   "execution_count": null,
   "id": "inclusive-fossil",
   "metadata": {},
   "outputs": [],
   "source": [
    "# 먼저 아래 코드에 대한 이름 공간을 확인해봅시다.\n",
    "\n",
    "class Person:\n",
    "    species = 'human'\n",
    "    \n",
    "    def __init__(self, name):\n",
    "        self.name = name \n",
    "        \n",
    "p1 = Person('Hong')\n",
    "p2 = Person('Choi')"
   ]
  },
  {
   "cell_type": "code",
   "execution_count": null,
   "id": "sustainable-robin",
   "metadata": {},
   "outputs": [],
   "source": [
    "# 아래 셀을 실행하여 이름 공간(namespace) 구성을 시각적으로 확인해보세요.\n",
    "# 클래스를 위한 이름 공간 그리고 인스턴스별로 이름 공간이 따로 구성되는 점에 주목하세요."
   ]
  },
  {
   "cell_type": "code",
   "execution_count": null,
   "id": "governmental-murder",
   "metadata": {
    "scrolled": true
   },
   "outputs": [],
   "source": [
    "%%html\n",
    "<iframe width=\"800\" height=\"500\" frameborder=\"0\" src=\"https://pythontutor.com/iframe-embed.html#code=class%20Person%3A%0A%20%20%20%20species%20%3D%20'human'%0A%20%20%20%20%0A%20%20%20%20def%20__init__%28self,%20name%29%3A%0A%20%20%20%20%20%20%20%20self.name%20%3D%20name%20%0A%20%20%20%20%20%20%20%20%0Ap1%20%3D%20Person%28'Hong'%29%0Ap2%20%3D%20Person%28'Choi'%29&codeDivHeight=400&codeDivWidth=350&cumulative=false&curInstr=9&heapPrimitives=nevernest&origin=opt-frontend.js&py=3&rawInputLstJSON=%5B%5D&textReferences=false\"> </iframe>"
   ]
  },
  {
   "cell_type": "code",
   "execution_count": null,
   "id": "later-dealing",
   "metadata": {},
   "outputs": [],
   "source": [
    "# Person 클래스를 재정의하여 다른 예시로 살펴봅시다.\n",
    "\n"
   ]
  },
  {
   "cell_type": "code",
   "execution_count": null,
   "id": "human-environment",
   "metadata": {
    "scrolled": true
   },
   "outputs": [],
   "source": [
    "# p1은 인스턴스 변수가 정의되어 있지 않아 클래스 변수가 unknown으로 출력됩니다.\n",
    "\n"
   ]
  },
  {
   "cell_type": "code",
   "execution_count": null,
   "id": "embedded-teach",
   "metadata": {},
   "outputs": [],
   "source": [
    "# p2 인스턴스 변수 name을 다른 값으로 설정해봅시다.\n",
    "\n"
   ]
  },
  {
   "cell_type": "code",
   "execution_count": null,
   "id": "baking-living",
   "metadata": {},
   "outputs": [],
   "source": [
    "# Person 클래스의 값이 Kim으로 변경된 것이 아니므로\n",
    "# p2 인스턴스의 이름 공간에 name이 Kim으로 저장됩니다.\n",
    "\n"
   ]
  },
  {
   "cell_type": "code",
   "execution_count": null,
   "id": "directed-grain",
   "metadata": {},
   "outputs": [],
   "source": [
    "# 아래 셀을 실행하여 시각적으로 위의 설명을 시각적으로 살펴봅시다."
   ]
  },
  {
   "cell_type": "code",
   "execution_count": null,
   "id": "cordless-harrison",
   "metadata": {
    "scrolled": true
   },
   "outputs": [],
   "source": [
    "%%html\n",
    "<iframe width=\"800\" height=\"500\" frameborder=\"0\" src=\"https://pythontutor.com/iframe-embed.html#code=class%20Person%3A%0A%20%20%20%20name%20%3D%20'unknown'%0A%20%20%20%20%0A%20%20%20%20def%20talk%28self%29%3A%0A%20%20%20%20%20%20%20%20print%28self.name%29%0A%20%20%20%20%20%20%20%20%0Ap2%20%3D%20Person%28%29%0Ap2.talk%28%29%0Ap2.name%20%3D%20'kim'%0Ap2.talk%28%29&codeDivHeight=400&codeDivWidth=350&cumulative=false&curInstr=8&heapPrimitives=nevernest&origin=opt-frontend.js&py=3&rawInputLstJSON=%5B%5D&textReferences=false\"> </iframe>"
   ]
  },
  {
   "cell_type": "markdown",
   "id": "natural-allowance",
   "metadata": {},
   "source": [
    "# 비교 정리"
   ]
  },
  {
   "cell_type": "markdown",
   "id": "disturbed-understanding",
   "metadata": {},
   "source": [
    "### 인스턴스와 메서드\n",
    "- 인스턴스는 3가지 메서드(인스턴스, 클래스, 정적 메서드) 모두에 접근할 수 있습니다.\n",
    "    - 인스턴스에서 클래스 메서드와 스태틱 메서드는 호출하지 않습니다. (가능하다 != 사용한다)\n",
    "- 인스턴스가 할 행동은 모두 인스턴스 메서드로 한정 지어서 설계합니다.\n"
   ]
  },
  {
   "cell_type": "code",
   "execution_count": null,
   "id": "chemical-fault",
   "metadata": {},
   "outputs": [],
   "source": [
    "# MyClass를 활용하여 살펴봅시다.\n",
    "\n",
    "class MyClass:\n",
    "    def instance_method(self):\n",
    "        return 'instance_method', self\n",
    "    \n",
    "    @classmethod\n",
    "    def class_method(cls):\n",
    "        return 'class_method', cls\n",
    "    \n",
    "    @staticmethod\n",
    "    def static_method():\n",
    "        return 'static method'"
   ]
  },
  {
   "cell_type": "code",
   "execution_count": null,
   "id": "italian-amsterdam",
   "metadata": {},
   "outputs": [],
   "source": [
    "# MyClass의 인스턴스를 만들고 mc 변수에 저장합시다.\n",
    "\n"
   ]
  },
  {
   "cell_type": "code",
   "execution_count": null,
   "id": "restricted-doctrine",
   "metadata": {},
   "outputs": [],
   "source": [
    "# 인스턴스에서 인스턴스 메서드를 호출하고 결과를 확인해봅시다.\n",
    "\n"
   ]
  },
  {
   "cell_type": "code",
   "execution_count": null,
   "id": "embedded-purpose",
   "metadata": {},
   "outputs": [],
   "source": [
    "# 인스턴스에서 클래스 메서드를 호출하고 결과를 확인해봅시다.\n",
    "\n"
   ]
  },
  {
   "cell_type": "code",
   "execution_count": null,
   "id": "parliamentary-entrance",
   "metadata": {},
   "outputs": [],
   "source": [
    "# 인스턴스에서 스태틱 메서드를 호출하고 결과를 확인해봅시다.\n",
    "\n"
   ]
  },
  {
   "cell_type": "markdown",
   "id": "partial-nickname",
   "metadata": {},
   "source": [
    "### 클래스와 메서드\n",
    "- 클래스는 3가지 메서드(인스턴스, 클래스, 정적 메서드) 모두에 접근할 수 있습니다.\n",
    "    - 클래스에서 인스턴스 메서드는 호출하지 않습니다. (가능하다 != 사용한다)\n",
    "- 클래스가 할 행동은 다음 원칙에 따라 설계합니다. (클래스 메서드와 정적 메서드)\n",
    "    - 클래스 자체(`cls`)와 그 속성에 접근할 필요가 있다면 **클래스 메서드**로 정의합니다.\n",
    "    - 클래스와 클래스 속성에 접근할 필요가 없다면 **정적 메서드**로 정의합니다.\n",
    "        - 정적 메서드는 `cls`, `self`와 같이 묵시적인 첫번째 인자를 받지 않기 때문입니다."
   ]
  },
  {
   "cell_type": "code",
   "execution_count": null,
   "id": "leading-helena",
   "metadata": {},
   "outputs": [],
   "source": [
    "# 클래스에서 인스턴스 메서드를 호출하면 오류가 발생합니다.\n",
    "# 실행시켜 오류를 확인해봅시다.\n",
    "\n"
   ]
  },
  {
   "cell_type": "code",
   "execution_count": null,
   "id": "varying-event",
   "metadata": {
    "scrolled": true
   },
   "outputs": [],
   "source": [
    "# 클래스에서 인스턴스 메서드를 그냥 호출하면 'self'가 넘어가지 않기 때문에 오류가 발생합니다.\n",
    "# 실행시켜 오류를 확인해봅시다.\n",
    "\n"
   ]
  },
  {
   "cell_type": "code",
   "execution_count": null,
   "id": "reflected-condition",
   "metadata": {},
   "outputs": [],
   "source": [
    "# 클래스에서 클래스 메서드를 호출하고 결과를 확인해봅시다.\n",
    "\n"
   ]
  },
  {
   "cell_type": "markdown",
   "id": "grand-coordinate",
   "metadata": {},
   "source": [
    "# OOP의 핵심 개념\n",
    "\n",
    "- 추상화 (Abstraction)\n",
    "- 상속 (Inheritance)\n",
    "- 다형성 (Polymorphism)\n",
    "- 캡슐화 (Encapsulation)"
   ]
  },
  {
   "cell_type": "markdown",
   "id": "growing-christmas",
   "metadata": {},
   "source": [
    "## 추상화(Abstraction)란?\n",
    "\n",
    "- 객체 지향 프로그래밍에서의 추상화는 세부적인 내용은 감추고 필수적인 부분만 표현하는 것을 뜻합니다.\n",
    "- 현실 세계를 프로그램 설계에 반영하기 위해 사용됩니다.\n",
    "- 여러 클래스가 공통적으로 사용할 속성 및 메서드를 추출하여 기본 클래스로 작성하여 활용합니다."
   ]
  },
  {
   "cell_type": "code",
   "execution_count": null,
   "id": "bright-rotation",
   "metadata": {},
   "outputs": [],
   "source": [
    "# 학생(Student)을 표현하기 위한 클래스를 생성합니다.\n",
    "\n"
   ]
  },
  {
   "cell_type": "code",
   "execution_count": null,
   "id": "electoral-advisory",
   "metadata": {},
   "outputs": [],
   "source": [
    "# 교수(Professor)를 표현하기 위한 클래스를 생성합니다.\n",
    "\n"
   ]
  },
  {
   "cell_type": "code",
   "execution_count": null,
   "id": "cleared-italic",
   "metadata": {},
   "outputs": [],
   "source": [
    "# 학생 클래스와 교수 클래스의 공통 속성과 행위(메서드)를 추출하여, \n",
    "# Person이라는 클래스를 통해 추상화를 해봅시다.\n",
    "\n"
   ]
  },
  {
   "cell_type": "markdown",
   "id": "superior-concrete",
   "metadata": {},
   "source": [
    "## 상속(Inheritance)이란?\n",
    "\n",
    "\n",
    "클래스에서 가장 큰 특징은 `상속`이 가능하다는 것입니다. \n",
    "\n",
    "부모 클래스의 모든 속성이 자식 클래스에게 상속 되므로 코드 재사용성이 높아집니다.\n",
    "\n",
    "---\n",
    "\n",
    "**활용법**\n",
    "\n",
    "\n",
    "```python\n",
    "class ChildClass(ParentClass):\n",
    "    <code block>\n",
    "```"
   ]
  },
  {
   "cell_type": "code",
   "execution_count": null,
   "id": "seventh-pilot",
   "metadata": {},
   "outputs": [],
   "source": [
    "# Person 클래스를 정의해 보겠습니다.\n",
    "\n",
    "class Person:\n",
    "    population = 0\n",
    "    \n",
    "    def __init__(self, name='사람'):\n",
    "        self.name = name\n",
    "        Person.population += 1\n",
    "        \n",
    "    def talk(self):\n",
    "        print(f'반갑습니다. {self.name}입니다.')"
   ]
  },
  {
   "cell_type": "code",
   "execution_count": null,
   "id": "strong-operator",
   "metadata": {},
   "outputs": [],
   "source": [
    "# Person 클래스의 인스턴스 p1을 생성해봅시다.\n",
    "# name 속성은 자유롭게 설정합니다.\n",
    "\n"
   ]
  },
  {
   "cell_type": "code",
   "execution_count": null,
   "id": "ordered-bible",
   "metadata": {},
   "outputs": [],
   "source": [
    "# Person 클래스를 상속받아 Student 클래스를 만들어 보겠습니다.\n",
    "\n",
    "class Student(Person):\n",
    "    def __init__(self, student_id, name='학생'):\n",
    "        self.name = name\n",
    "        self.student_id = student_id  \n",
    "        Person.population += 1"
   ]
  },
  {
   "cell_type": "code",
   "execution_count": null,
   "id": "closing-benefit",
   "metadata": {},
   "outputs": [],
   "source": [
    "# Student 클래스의 객체 s1을 만들어봅시다.\n",
    "\n"
   ]
  },
  {
   "cell_type": "code",
   "execution_count": null,
   "id": "positive-casting",
   "metadata": {},
   "outputs": [],
   "source": [
    "# s1의 name과 student_id를 확인해봅시다.\n",
    "\n"
   ]
  },
  {
   "cell_type": "code",
   "execution_count": null,
   "id": "noble-gardening",
   "metadata": {},
   "outputs": [],
   "source": [
    "# 자식 클래스의 인스턴스는 부모 클래스에 정의된 메서드를 호출 할 수 있습니다.\n",
    "# talk 메서드를 호출해봅시다.\n",
    "\n"
   ]
  },
  {
   "cell_type": "markdown",
   "id": "governing-occurrence",
   "metadata": {},
   "source": [
    "이처럼 상속은 공통된 속성이나 메서드를 부모 클래스에 정의하고, 이를 상속받아 다양한 형태의 사람들을 만들 수 있습니다."
   ]
  },
  {
   "cell_type": "markdown",
   "id": "critical-reader",
   "metadata": {},
   "source": [
    "### `issubclass(class, classinfo)`\n",
    "\n",
    "* class가 classinfo의 subclass인 경우 `True`를 반환합니다."
   ]
  },
  {
   "cell_type": "markdown",
   "id": "catholic-quick",
   "metadata": {},
   "source": [
    "### `isinstance(object, classinfo)`\n",
    "\n",
    "* object가 classinfo의 인스턴스거나 subclass인 경우 `True`를 반환합니다."
   ]
  },
  {
   "cell_type": "code",
   "execution_count": null,
   "id": "elementary-wells",
   "metadata": {},
   "outputs": [],
   "source": [
    "# issubclass 함수를 통해 Student 클래스와 Person 클래스가 상속관계인지 확인해봅시다. (클래스 상속 검사)\n",
    "# issubclass(자식클래스, 부모클래스)\n",
    "\n"
   ]
  },
  {
   "cell_type": "code",
   "execution_count": null,
   "id": "downtown-colony",
   "metadata": {},
   "outputs": [],
   "source": [
    "# isinstance 함수를 통해\n",
    "# s1이 Student 클래스의 인스턴스인지, s1이 Person 클래스의 인스턴스인지 모두 확인해봅시다.\n",
    "# isinstance(인스턴스, 클래스)\n",
    "\n"
   ]
  },
  {
   "cell_type": "code",
   "execution_count": null,
   "id": "adopted-jackson",
   "metadata": {},
   "outputs": [],
   "source": [
    "# 내장 자료형들도 아래와 같이 상속 관계가 있습니다.\n",
    "# 아래 셀을 실행시켜 확인해봅시다."
   ]
  },
  {
   "cell_type": "code",
   "execution_count": null,
   "id": "described-silly",
   "metadata": {},
   "outputs": [],
   "source": [
    "print(issubclass(bool, int)) # True"
   ]
  },
  {
   "cell_type": "code",
   "execution_count": null,
   "id": "growing-turning",
   "metadata": {
    "scrolled": true
   },
   "outputs": [],
   "source": [
    "print(issubclass(float, int)) # False"
   ]
  },
  {
   "cell_type": "markdown",
   "id": "humanitarian-pakistan",
   "metadata": {},
   "source": [
    "### `super()`\n",
    "\n",
    "* 자식 클래스에 메서드를 추가로 구현할 수 있습니다.\n",
    "\n",
    "* 부모 클래스의 내용을 사용하고자 할 때, `super()`를 사용할 수 있습니다.\n",
    "\n",
    "---\n",
    "\n",
    "**활용법**\n",
    "\n",
    "\n",
    "```python\n",
    "class ChildClass(ParentClass):\n",
    "    def method(self, arg):\n",
    "        super().method(arg) \n",
    "```"
   ]
  },
  {
   "cell_type": "code",
   "execution_count": null,
   "id": "inappropriate-angle",
   "metadata": {},
   "outputs": [],
   "source": [
    "# Person 클래스와 Student 클래스를 함께 정의해 보겠습니다.\n",
    "\n",
    "class Person:\n",
    "    def __init__(self, name, age, number, email):\n",
    "        self.name = name\n",
    "        self.age = age\n",
    "        self.number = number\n",
    "        self.email = email \n",
    "        \n",
    "    def greeting(self):\n",
    "        print(f'안녕, {self.name}')\n",
    "      \n",
    "    \n",
    "class Student(Person):\n",
    "    def __init__(self, name, age, number, email, student_id):\n",
    "        self.name = name\n",
    "        self.age = age\n",
    "        self.number = number\n",
    "        self.email = email \n",
    "        self.student_id = student_id\n",
    "        \n",
    "p1 = Person('홍교수', 200, '0101231234', 'hong@gildong')\n",
    "s1 = Student('학생', 20, '12312312', 'student@naver.com', '190000')"
   ]
  },
  {
   "cell_type": "code",
   "execution_count": null,
   "id": "further-karaoke",
   "metadata": {},
   "outputs": [],
   "source": [
    "# p1과 s1 모두 greeting 메서드를 호출해봅시다.\n",
    "\n",
    "\n"
   ]
  },
  {
   "cell_type": "markdown",
   "id": "vulnerable-sandwich",
   "metadata": {},
   "source": [
    "위의 코드는 상속을 했음에도 불구하고 초기화(`__init__`)에서 동일한 코드가 반복됩니다. \n",
    "\n",
    "초기화의 중복을 `super()` 함수를 통해 제거해봅시다."
   ]
  },
  {
   "cell_type": "code",
   "execution_count": null,
   "id": "peripheral-parameter",
   "metadata": {},
   "outputs": [],
   "source": [
    "# Person과 Student를 처음부터 재정의해봅시다.\n"
   ]
  },
  {
   "cell_type": "markdown",
   "id": "criminal-apartment",
   "metadata": {},
   "source": [
    "## 다형성(Polymorphism)이란?\n",
    "\n",
    "- 여러 모양을 뜻하는 그리스어로, 동일한 메서드가 클래스에 따라 다르게 행동할 수 있음을 뜻합니다.\n",
    "- 즉, 서로 다른 클래스에 속해있는 객체들이 동일한 메시지에 대해 각기 다른 방식으로 응답될 수 있습니다."
   ]
  },
  {
   "cell_type": "markdown",
   "id": "ecological-clock",
   "metadata": {},
   "source": [
    "### 메서드 오버라이딩\n",
    "> Method Overriding(메서드 오버라이딩): 자식 클래스에서 부모 클래스의 메서드를 재정의하는 것\n",
    "\n",
    "* 상속 받은 메서드를 `재정의`할 수도 있습니다. \n",
    "* 상속 받은 클래스에서 **같은 이름의 메서드**로 덮어씁니다.\n",
    "* `__init__`, `__str__`의 메서드를 정의하는 것 역시, 메서드 오버라이딩입니다."
   ]
  },
  {
   "cell_type": "code",
   "execution_count": null,
   "id": "engaging-sustainability",
   "metadata": {},
   "outputs": [],
   "source": [
    "# 아래 Person 클래스를 이용하여 메서드 오버라이딩을 해보겠습니다.\n",
    "\n",
    "class Person:\n",
    "    def __init__(self, name, age, number, email):\n",
    "        self.name = name\n",
    "        self.age = age\n",
    "        self.number = number\n",
    "        self.email = email \n",
    "        \n",
    "    def talk(self):\n",
    "        print(f'안녕, {self.name}')"
   ]
  },
  {
   "cell_type": "code",
   "execution_count": null,
   "id": "handmade-collect",
   "metadata": {},
   "outputs": [],
   "source": [
    "# 위의 Person 클래스를 상속 받아 군인답게 말하는 Soldier 클래스를 만들어봅시다.\n",
    "# talk 메서드를 재정의(override)합니다.\n",
    "\n"
   ]
  },
  {
   "cell_type": "code",
   "execution_count": null,
   "id": "detected-bullet",
   "metadata": {},
   "outputs": [],
   "source": [
    "# Person 클래스의 인스턴스 p를 만들어서 talk 메서드를 실행해보세요.\n",
    "\n",
    "\n"
   ]
  },
  {
   "cell_type": "code",
   "execution_count": null,
   "id": "informational-breakfast",
   "metadata": {},
   "outputs": [],
   "source": [
    "# Soldier 클래스의 인스턴스 s를 만들어서 talk 메서드를 실행해보세요.\n",
    "\n"
   ]
  },
  {
   "cell_type": "markdown",
   "id": "fatty-million",
   "metadata": {},
   "source": [
    "### [연습] Person & Animal (메서드 오버라이딩)\n",
    "\n",
    "> 사실 사람은 포유류입니다. \n",
    ">\n",
    "> Animal Class를 만들고, Person Class 가 상속받도록 구성해봅시다.\n",
    ">\n",
    "> (변수나, 메서드는 자유롭게 만들어보세요.)\n",
    "\n",
    "```\n",
    "예시) \n",
    "모든 동물은 이름이 있고, 사람은 이름과 이메일이 있습니다.\n",
    "모든 동물은 talk 메서드가 있습니다. \n",
    "동물은 '으르렁'하고, 사람은 '안녕'합니다.\n",
    "```\n"
   ]
  },
  {
   "cell_type": "code",
   "execution_count": null,
   "id": "sophisticated-construction",
   "metadata": {},
   "outputs": [],
   "source": [
    "# 아래에 코드를 작성해주세요.\n",
    "\n"
   ]
  },
  {
   "cell_type": "markdown",
   "id": "charitable-gathering",
   "metadata": {},
   "source": [
    "## 캡슐화(Encapsulation)란?\n",
    "\n",
    "- 객체의 일부 구현 내용에 대해 외부로부터의 직접적인 액세스를 차단하는 것을 말합니다.\n",
    "  - 예시: 주민등록번호\n",
    "  \n",
    "- 다른 언어와 달리 파이썬에서 캡슐화는 암묵적으로는 존재하지만, 언어적으로는 존재하지 않습니다.\n",
    "\n",
    "---\n",
    "\n",
    "**접근제어자의 종류**\n",
    "- Public Access Modifier\n",
    "- Protected Access Modifier\n",
    "- Private Access Modifier"
   ]
  },
  {
   "cell_type": "markdown",
   "id": "literary-tracker",
   "metadata": {},
   "source": [
    "### Publie Member\n",
    "\n",
    "- 언더바가 없이 시작하는 메서드나 속성들이 이에 해당합니다.\n",
    "- 어디서나 호출 가능합니다.\n",
    "- 하위 클래스에서 메서드 오버라이딩을 허용합니다.\n",
    "- 일반적으로 작성되는 메서드와 속성의 대다수를 차지합니다."
   ]
  },
  {
   "cell_type": "code",
   "execution_count": null,
   "id": "partial-recorder",
   "metadata": {},
   "outputs": [],
   "source": [
    "# 아래 간단한 Person 클래스가 정의되어 있습니다.\n",
    "\n",
    "class Person:\n",
    "    \n",
    "    def __init__(self, name, age):\n",
    "        self.name = name\n",
    "        self.age = 30"
   ]
  },
  {
   "cell_type": "code",
   "execution_count": null,
   "id": "remarkable-module",
   "metadata": {},
   "outputs": [],
   "source": [
    "# Person 클래스의 인스턴스인 p1은 이름(name)과 나이(age) 모두 접근 가능합니다.\n",
    "\n",
    "p1 = Person('김싸피', 30)\n",
    "print(p1.name)\n",
    "print(p1.age)"
   ]
  },
  {
   "cell_type": "markdown",
   "id": "cross-browser",
   "metadata": {},
   "source": [
    "### Protected Member\n",
    "\n",
    "- 언더바 1개로 시작하는 메서드나 속성들이 이에 해당합니다.\n",
    "- 암묵적 규칙에 의해 부모 클래스 내부와 자식 클래스에서만 호출 가능합니다.\n",
    "- 하위 클래스에서 메서드 오버라이딩을 허용합니다."
   ]
  },
  {
   "cell_type": "code",
   "execution_count": null,
   "id": "fifteen-tyler",
   "metadata": {},
   "outputs": [],
   "source": [
    "# Person 클래스를 재정의해봅시다.\n",
    "# 실제 나이(age)에 해당하는 값을 언더바 한 개를 붙여서 Protected Member로 지정하였습니다.\n",
    "\n"
   ]
  },
  {
   "cell_type": "code",
   "execution_count": null,
   "id": "complimentary-smart",
   "metadata": {
    "scrolled": false
   },
   "outputs": [],
   "source": [
    "# 인스턴스를 만들고 get_age 메서드를 활용하여 호출할 수 있습니다.\n",
    "\n"
   ]
  },
  {
   "cell_type": "code",
   "execution_count": null,
   "id": "economic-library",
   "metadata": {},
   "outputs": [],
   "source": [
    "# _age에 직접 접근하여도 확인이 가능합니다.\n",
    "# 파이썬에서는 암묵적으로 활용됩니다.\n",
    "\n"
   ]
  },
  {
   "cell_type": "markdown",
   "id": "dried-mexican",
   "metadata": {},
   "source": [
    "### Private Member\n",
    "\n",
    "- 언더바 2개로 시작하는 메서드나 속성들이 이에 해당합니다.\n",
    "- 본 클래스 내부에서만 사용이 가능합니다.\n",
    "- 하위 클래스 상속 및 호출이 불가능합니다.\n",
    "- 외부 호출이 불가능합니다."
   ]
  },
  {
   "cell_type": "code",
   "execution_count": null,
   "id": "crude-evans",
   "metadata": {},
   "outputs": [],
   "source": [
    "# Person 클래스를 다시 재정의해봅시다.\n",
    "# 실제 나이(age)에 해당하는 값을 언더바 두 개를 붙여서 Private Member로 지정하였습니다.\n",
    "\n",
    "class Person:\n",
    "    \n",
    "    def __init__(self, name, age):\n",
    "        self.name = name\n",
    "        self.__age = age\n",
    "    \n",
    "    def get_age(self): \n",
    "        return self.__age"
   ]
  },
  {
   "cell_type": "code",
   "execution_count": null,
   "id": "architectural-shooting",
   "metadata": {
    "scrolled": true
   },
   "outputs": [],
   "source": [
    "# 인스턴스를 만들고 get_age 메서드를 활용하여 호출할 수 있습니다.\n",
    "# 실행시켜 확인해봅시다.\n",
    "\n",
    "p1 = Person('김싸피', 30)\n",
    "p1.get_age()"
   ]
  },
  {
   "cell_type": "code",
   "execution_count": null,
   "id": "adaptive-tattoo",
   "metadata": {
    "scrolled": true
   },
   "outputs": [],
   "source": [
    "# __age에 직접 접근이 불가능합니다.\n",
    "\n",
    "p1.__age"
   ]
  },
  {
   "cell_type": "markdown",
   "id": "spatial-patent",
   "metadata": {},
   "source": [
    "### `getter` 메서드와 `setter` 메서드\n",
    "\n",
    "변수에 접근할 수 있는 메서드를 별도로 생성할 수 있습니다.\n",
    "\n",
    "- `getter` 메서드: 변수의 값을 읽는 메서드입니다.\n",
    "  - `@property` 데코레이터를 사용합니다.\n",
    "- `setter` 메서드: 변수의 값을 설정하는 성격의 메서드입니다.\n",
    "  - `@변수.setter`를 사용합니다."
   ]
  },
  {
   "cell_type": "code",
   "execution_count": null,
   "id": "requested-white",
   "metadata": {},
   "outputs": [],
   "source": [
    "class Person:\n",
    "    \n",
    "    def __init__(self, age):\n",
    "        self._age = age \n",
    "        \n",
    "    @property\n",
    "    def age(self):\n",
    "        return self._age\n",
    "    \n",
    "    @age.setter\n",
    "    def age(self, new_age):\n",
    "        if new_age <= 19:\n",
    "            raise ValueError('Too Young For SSAFY')\n",
    "            return\n",
    "        \n",
    "        self._age = new_age"
   ]
  },
  {
   "cell_type": "code",
   "execution_count": null,
   "id": "worldwide-kentucky",
   "metadata": {},
   "outputs": [],
   "source": [
    "# Person의 인스턴스를 만들어서 나이에 접근하면 정상적으로 출력됩니다.\n",
    "# 실행시켜 확인해보세요.\n",
    "\n",
    "p1 = Person(20)\n",
    "print(p1.age)"
   ]
  },
  {
   "cell_type": "code",
   "execution_count": null,
   "id": "brief-jersey",
   "metadata": {},
   "outputs": [],
   "source": [
    "# p1 인스턴스의 나이를 다른 값으로 바꿔도 정상적으로 반영됩니다.\n",
    "# 실행시켜 확인해보세요.\n",
    "\n",
    "p1.age = 33\n",
    "print(p1.age)"
   ]
  },
  {
   "cell_type": "code",
   "execution_count": null,
   "id": "monetary-shower",
   "metadata": {
    "scrolled": true
   },
   "outputs": [],
   "source": [
    "# setter 함수에는 \"나이가 19살 이하면 안된다는\" 조건문이 하나 작성되어 있습니다.\n",
    "# 따라서 나이를 19살 이하인 값으로 변경하게 되면 오류가 발생합니다.\n",
    "# 실행시켜 확인해보세요.\n",
    "\n",
    "p1.age = 19\n",
    "print(p1.age)"
   ]
  },
  {
   "cell_type": "markdown",
   "id": "43473762",
   "metadata": {},
   "source": [
    "### 다중 상속\n",
    "* 두개 이상의 클래스를 상속받는 경우, 다중 상속이 됩니다.\n",
    "    * 상속 받은 모든 클래스의 요소를 활용 가능\n",
    "    * 중복된 속성이나 메서드가 있는 경우 상속 순서에 의해 결정\n"
   ]
  },
  {
   "cell_type": "code",
   "execution_count": null,
   "id": "44ef1352",
   "metadata": {},
   "outputs": [],
   "source": [
    "# Person 클래스를 정의합니다.\n",
    "# Person 클래스는 생성자에서 인스턴스 변수로 name을 설정합니다.\n",
    "\n",
    "class Person:\n",
    "    def __init__(self, name):\n",
    "        self.name = name\n",
    "\n",
    "    def greeting(self):\n",
    "        return f'안녕, {self.name}'"
   ]
  },
  {
   "cell_type": "code",
   "execution_count": null,
   "id": "c31ca2a4",
   "metadata": {},
   "outputs": [],
   "source": [
    "# Mom 클래스를 정의합니다.\n",
    "# Mom 클래스는 Person 클래스를 상속받으며, 클래스 변수로 gene을 갖습니다. 값은 'XX'입니다.\n",
    "# Mom 클래스만의 인스턴스 메서드 swim을 자유롭게 정의해봅시다.\n",
    "\n"
   ]
  },
  {
   "cell_type": "code",
   "execution_count": null,
   "id": "5898be32",
   "metadata": {},
   "outputs": [],
   "source": [
    "# Dad 클래스를 정의합니다.\n",
    "# Dad 클래스는 Person 클래스를 상속받으며, 클래스 변수로 gene을 갖습니다. 값은 'XY'입니다.\n",
    "# Dad 클래스만의 인스턴스 메서드 walk를 자유롭게 정의해봅시다.\n",
    "\n",
    "\n"
   ]
  },
  {
   "cell_type": "code",
   "execution_count": null,
   "id": "47503a48",
   "metadata": {},
   "outputs": [],
   "source": [
    "# FirstChild 클래스를 정의합니다. \n",
    "# 상속의 순서가 중요합니다.(Dad, Mom) 순서로 상속받아봅시다.\n",
    "# 상속받은 swim 메서드를 재정의(override)해봅시다.\n",
    "# FirstChild 클래스만의 인스턴스 메서드 cry를 자유롭게 정의해봅시다.\n",
    "\n",
    "\n"
   ]
  },
  {
   "cell_type": "code",
   "execution_count": null,
   "id": "00b1886e",
   "metadata": {},
   "outputs": [],
   "source": [
    "# FirstChild 클래스의 인스턴스 baby1을 생성해봅시다.\n",
    "\n"
   ]
  },
  {
   "cell_type": "code",
   "execution_count": null,
   "id": "5723fa3b",
   "metadata": {},
   "outputs": [],
   "source": [
    "# baby1의 cry 메서드를 실행해봅시다.\n",
    "\n"
   ]
  },
  {
   "cell_type": "code",
   "execution_count": null,
   "id": "416743f9",
   "metadata": {},
   "outputs": [],
   "source": [
    "# baby1의 swim 메서드를 실행해봅시다.\n",
    "\n"
   ]
  },
  {
   "cell_type": "code",
   "execution_count": null,
   "id": "9297ef76",
   "metadata": {},
   "outputs": [],
   "source": [
    "# baby1의 walk 메서드를 실행해봅시다.\n",
    "\n"
   ]
  },
  {
   "cell_type": "code",
   "execution_count": null,
   "id": "8c4c3641",
   "metadata": {},
   "outputs": [],
   "source": [
    "# baby1의 gene 속성은 어떤 부모클래스의 속성값을 상속받는지 확인해봅시다.\n",
    "\n"
   ]
  },
  {
   "cell_type": "code",
   "execution_count": null,
   "id": "f69e4ebf",
   "metadata": {},
   "outputs": [],
   "source": [
    "# 이번에는 SecondChild 클래스를 만들어 상속 순서를 바꿔봅시다.\n",
    "# (Mom, Dad) 순서로 상속받아봅시다.\n",
    "# 상속받은 walk 메서드를 재정의(override)해봅시다.\n",
    "# SecondChild 클래스만의 인스턴스 메서드 cry를 자유롭게 정의해봅시다.\n",
    "\n"
   ]
  },
  {
   "cell_type": "code",
   "execution_count": null,
   "id": "306f7009",
   "metadata": {},
   "outputs": [],
   "source": [
    "# SecondChild의 인스턴스 baby2를 생성합니다.\n",
    "\n"
   ]
  },
  {
   "cell_type": "code",
   "execution_count": null,
   "id": "f5ccf88a",
   "metadata": {},
   "outputs": [],
   "source": [
    "# baby2의 cry 메서드를 실행합니다.\n",
    "\n"
   ]
  },
  {
   "cell_type": "code",
   "execution_count": null,
   "id": "139d24c7",
   "metadata": {},
   "outputs": [],
   "source": [
    "# baby2의 walk 메서드를 실행합니다.\n",
    "\n"
   ]
  },
  {
   "cell_type": "code",
   "execution_count": null,
   "id": "65970cb7",
   "metadata": {},
   "outputs": [],
   "source": [
    "# baby2의 swim 메서드를 실행합니다.\n",
    "\n"
   ]
  },
  {
   "cell_type": "code",
   "execution_count": null,
   "id": "65a59c7b",
   "metadata": {},
   "outputs": [],
   "source": [
    "# baby2의 gene 속성은 어떤 부모클래스의 속성값을 상속받는지 확인해봅시다.\n",
    "\n"
   ]
  },
  {
   "cell_type": "markdown",
   "id": "b75c46ca",
   "metadata": {},
   "source": [
    "### 상속관계에서의 이름 공간과 MRO (Method Resolution Order)\n",
    "\n",
    "- 기존의 `인스턴스 -> 클래스` 순으로 이름 공간을 탐색해나가는 과정에서 상속관계에 있으면 아래와 같이 확장됩니다.\n",
    "    * 인스턴스 -> 자식 클래스 -> 부모 클래스\n",
    "    \n",
    "- MRO는 해당 인스턴스의 클래스가 어떤 부모 클래스를 가지는지 확인하는 속성 또는 메서드입니다.\n",
    "\n",
    "---\n",
    "\n",
    "**활용법**\n",
    "\n",
    "\n",
    "```python\n",
    "ClassName.__mro__\n",
    "\n",
    "# 또는\n",
    "ClassName.mro()\n",
    "```"
   ]
  },
  {
   "cell_type": "code",
   "execution_count": null,
   "id": "792a21fc",
   "metadata": {},
   "outputs": [],
   "source": [
    "# Mom, Dad 클래스를 정의해 보겠습니다.\n",
    "\n",
    "class Mom:\n",
    "    def walk(self):\n",
    "        print('사뿐사뿐')\n",
    "        \n",
    "        \n",
    "class Dad:\n",
    "    def walk(self):\n",
    "        print('저벅저벅')"
   ]
  },
  {
   "cell_type": "code",
   "execution_count": null,
   "id": "7cf34b43",
   "metadata": {},
   "outputs": [],
   "source": [
    "# Mom, Dad 클래스를 활용하여 Daughter, Son 클래스를 정의합니다.\n",
    "\n",
    "class Daughter(Mom, Dad):\n",
    "    pass\n",
    "\n",
    "\n",
    "class Son(Dad, Mom):\n",
    "    pass"
   ]
  },
  {
   "cell_type": "code",
   "execution_count": null,
   "id": "fe003a45",
   "metadata": {},
   "outputs": [],
   "source": [
    "# Daugher, Son 클래스의 인스턴스를 생성합니다.\n",
    "# 각각의 인스턴스에서 메서드를 호출하고 결과가 어떻게 나오는지 확인합니다.\n",
    "# 아래 코드를 실행해시켜보세요.\n",
    "\n",
    "d = Daughter()\n",
    "s = Son()\n",
    "\n",
    "d.walk()\n",
    "s.walk()"
   ]
  },
  {
   "cell_type": "code",
   "execution_count": null,
   "id": "0a9c8e9a",
   "metadata": {},
   "outputs": [],
   "source": [
    "# Daughter 클래스의 mro 속성을 이용하여 확인해봅시다.\n",
    "\n",
    "print(Daughter.__mro__)"
   ]
  },
  {
   "cell_type": "code",
   "execution_count": null,
   "id": "59e044ee",
   "metadata": {},
   "outputs": [],
   "source": [
    "# Son 클래스의 mro 속성을 이용하여 확인해봅시다.\n",
    "\n",
    "print(Son.__mro__)"
   ]
  }
 ],
 "metadata": {
  "kernelspec": {
   "display_name": "Python 3 (ipykernel)",
   "language": "python",
   "name": "python3"
  },
  "language_info": {
   "codemirror_mode": {
    "name": "ipython",
    "version": 3
   },
   "file_extension": ".py",
   "mimetype": "text/x-python",
   "name": "python",
   "nbconvert_exporter": "python",
   "pygments_lexer": "ipython3",
   "version": "3.9.9"
  },
  "toc": {
   "base_numbering": 1,
   "nav_menu": {},
   "number_sections": true,
   "sideBar": true,
   "skip_h1_title": false,
   "title_cell": "Table of Contents",
   "title_sidebar": "Contents",
   "toc_cell": false,
   "toc_position": {
    "height": "calc(100% - 180px)",
    "left": "10px",
    "top": "150px",
    "width": "341px"
   },
   "toc_section_display": true,
   "toc_window_display": false
  }
 },
 "nbformat": 4,
 "nbformat_minor": 5
}
