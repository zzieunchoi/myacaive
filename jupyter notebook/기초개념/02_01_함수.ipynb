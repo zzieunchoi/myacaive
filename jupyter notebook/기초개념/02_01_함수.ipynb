{
 "cells": [
  {
   "cell_type": "markdown",
   "metadata": {},
   "source": [
    "<p style=\"font-size: 33px; font-weight: 700; margin-bottom: 3rem\">함수(function) I</p>\n",
    "\n",
    "함수(function) I\n",
    "\n",
    "- 함수의 정의\n",
    "- 함수의 Output\n",
    "- 함수의 Input"
   ]
  },
  {
   "cell_type": "markdown",
   "metadata": {},
   "source": [
    "<center>\n",
    "    <img src=\"https://user-images.githubusercontent.com/18046097/61181746-2a1d9400-a665-11e9-804e-e92940d4fc82.png\", alt=\"func.png\">\n",
    "</center>"
   ]
  },
  {
   "cell_type": "markdown",
   "metadata": {},
   "source": [
    "# 들어가기전에 \n",
    "다음의 코드를 봅시다. 무엇을 하는 코드일까요?"
   ]
  },
  {
   "cell_type": "code",
   "execution_count": null,
   "metadata": {},
   "outputs": [],
   "source": [
    "values = [100, 75, 85, 90, 65, 95, 90, 60, 85, 50, 90, 80]\n",
    "total = 0\n",
    "cnt = 0\n",
    "\n",
    "for value in values:\n",
    "    total += value\n",
    "    cnt += 1\n",
    "mean = total / cnt\n",
    "\n",
    "total_var = 0\n",
    "for value in values:\n",
    "    total_var += (value - mean) ** 2\n",
    "sum_var = total_var / cnt\n",
    "\n",
    "target = sum_var\n",
    "count = 0 \n",
    "while True : \n",
    "    count += 1 \n",
    "    root = 0.5 * (target + (sum_var / target))  \n",
    "    if (abs(root - target) < 0.0000000000000001): \n",
    "        break \n",
    "    target = root\n",
    "\n",
    "std_dev = target\n",
    "print(std_dev)"
   ]
  },
  {
   "cell_type": "markdown",
   "metadata": {},
   "source": [
    "이해하기 쉬운가요? 그리고 만약 다른 곳에서 동일한 작업을 다시해야할 경우 어떻게 해야 할까요?"
   ]
  },
  {
   "cell_type": "code",
   "execution_count": null,
   "metadata": {},
   "outputs": [],
   "source": [
    "import math\n",
    "values = [100, 75, 85, 90, 65, 95, 90, 60, 85, 50, 90, 80]\n",
    "cnt = len(values)\n",
    "mean = sum(values) / cnt\n",
    "sum_var = sum(pow(value - mean, 2) for value in values) / cnt\n",
    "std_dev = math.sqrt(sum_var)\n",
    "print(std_dev)"
   ]
  },
  {
   "cell_type": "markdown",
   "metadata": {},
   "source": [
    "한줄로도 가능할까요?"
   ]
  },
  {
   "cell_type": "code",
   "execution_count": null,
   "metadata": {},
   "outputs": [],
   "source": [
    "import statistics\n",
    "values = [100, 75, 85, 90, 65, 95, 90, 60, 85, 50, 90, 80]\n",
    "statistics.pstdev(values)"
   ]
  },
  {
   "cell_type": "markdown",
   "metadata": {},
   "source": [
    "# 함수(function)\n",
    "\n",
    "> 특정한 기능(function)을 하는 코드의 묶음\n",
    "\n",
    "## 함수를 쓰는 이유\n",
    "\n",
    "- 가독성\n",
    "- 재사용성\n",
    "- 유지보수"
   ]
  },
  {
   "cell_type": "markdown",
   "metadata": {},
   "source": [
    "<center>\n",
    "    <img src=\"https://user-images.githubusercontent.com/18046097/61181741-2984fd80-a665-11e9-93b8-578c56689d0e.png\", alt=\"programming principle\">\n",
    "</center>"
   ]
  },
  {
   "cell_type": "markdown",
   "metadata": {},
   "source": [
    "## 함수의 선언과 호출\n",
    "\n",
    "* 함수의 선언은 `def` 키워드를 활용합니다.\n",
    "\n",
    "\n",
    "* `들여쓰기(4spaces)`로 함수의 body(코드 블록)를 작성합니다.\n",
    "    * Docstring은 함수 body 앞에 선택적으로 작성 가능합니다.\n",
    "\n",
    "\n",
    "* 함수는 `매개변수(parameter)`를 넘겨줄 수도 있습니다.\n",
    "\n",
    "\n",
    "* 함수는 동작후에 `return`을 통해 결과값을 전달합니다.\n",
    "    * 반드시 하나의 객체를 반환합니다 (`return` 값이 없으면, `None`을 반환)\n",
    "\n",
    "\n",
    "* 함수는 호출은 `함수명()`으로 합니다. \n",
    "    * 예) `func()` / `func(val1, val2)`\n",
    "\n",
    "---\n",
    "\n",
    "#### 활용법\n",
    "\n",
    "```python\n",
    "def <함수이름>(parameter1, parameter2):\n",
    "    <코드 블럭>\n",
    "    return value\n",
    "```"
   ]
  },
  {
   "cell_type": "markdown",
   "metadata": {},
   "source": [
    "### [연습] 세제곱 함수 \n",
    "> 입력 받은 수를 세제곱하여 반환(return)하는 함수 `cube()`을 작성해보세요.\n",
    "\n",
    "---\n",
    "\n",
    "**[입력 예시]**\n",
    "\n",
    "```py\n",
    "cube(2)\n",
    "```\n",
    "\n",
    "**[출력 예시]**\n",
    "\n",
    "8"
   ]
  },
  {
   "cell_type": "markdown",
   "metadata": {},
   "source": [
    "위 문제를 참고하여 아래에 cube라는 이름의 함수를 작성하고 실행해봅시다.\n",
    "\n",
    "함수의 기본 선언을 연습하는 예제입니다\n",
    "- 거듭 제곱 연산자 : `**` (별표 2개)\n",
    "- ex) 10의 2승 => `10 ** 2`\n",
    "\n",
    "```python\n",
    "def 함수이름(매개변수):\n",
    "     거듭 제곱 연산자를 활용하여 입력 받은 매개변수를 세제곱하여 변수에 할당하는 코드 작성합니다.\n",
    "     위에서 할당한 변수를 반환합니다.\n",
    "```"
   ]
  },
  {
   "cell_type": "code",
   "execution_count": 4,
   "metadata": {},
   "outputs": [],
   "source": [
    "def cube(a):\n",
    "    return a**2"
   ]
  },
  {
   "cell_type": "code",
   "execution_count": 5,
   "metadata": {},
   "outputs": [
    {
     "name": "stdout",
     "output_type": "stream",
     "text": [
      "4\n",
      "10000\n"
     ]
    }
   ],
   "source": [
    "# 해당 코드를 통해 올바른 결과가 나오는지 확인하세요.\n",
    "print(cube(2))\n",
    "print(cube(100))"
   ]
  },
  {
   "cell_type": "markdown",
   "metadata": {},
   "source": [
    "<center>\n",
    "    <img src=\"https://user-images.githubusercontent.com/18046097/61181742-2984fd80-a665-11e9-9d5c-c90e8c64953e.png\", alt=\"function descrpition\">\n",
    "</center>"
   ]
  },
  {
   "cell_type": "code",
   "execution_count": null,
   "metadata": {},
   "outputs": [],
   "source": [
    "# 우리가 활용하는 print문도 파이썬에 지정된 함수입니다. \n",
    "# 아래에서 'hi'는 argument이고 출력을 하게 됩니다.\n",
    "print('hi')"
   ]
  },
  {
   "cell_type": "markdown",
   "metadata": {},
   "source": [
    "<center>\n",
    "    <img src=\"https://user-images.githubusercontent.com/18046097/61181739-2984fd80-a665-11e9-991b-f2f058397a69.png\", alt=\"built_in\">\n",
    "</center>\n",
    "\n",
    "[파이썬 문서](https://docs.python.org/ko/3/library/functions.html)"
   ]
  },
  {
   "cell_type": "code",
   "execution_count": null,
   "metadata": {},
   "outputs": [],
   "source": [
    "# 아래 작성된 함수를 실행하여 내장함수 목록을 직접 확인해봅시다.\n",
    "dir(__builtins__)"
   ]
  },
  {
   "cell_type": "code",
   "execution_count": null,
   "metadata": {},
   "outputs": [],
   "source": [
    "# 제공된 링크로 이동해서 편하게 써왔던 random.sample() 함수의 내부도 직접 확인해봅시다."
   ]
  },
  {
   "cell_type": "markdown",
   "metadata": {},
   "source": [
    "https://github.com/python/cpython/blob/master/Lib/random.py#L385"
   ]
  },
  {
   "cell_type": "markdown",
   "metadata": {},
   "source": [
    "### [연습] 함수 만들기\n",
    "\n",
    "> 아래의 코드와 동일한 `my_max` 함수를 만들어주세요.\n",
    ">\n",
    "> 정수를 두개 받아서, 큰 값을 반환합니다. \n",
    "\n",
    "```python\n",
    "my_max(1, 5)\n",
    "```\n",
    "---\n",
    "```\n",
    "출력 예시)\n",
    "5\n",
    "```\n"
   ]
  },
  {
   "cell_type": "code",
   "execution_count": null,
   "metadata": {},
   "outputs": [],
   "source": [
    "# 먼저 내장함수 max()를 확인해봅시다.\n",
    "# 내장함수 max에 숫자 1과 5를 전달인자로 작성하고 실행합니다.\n",
    "max(1, 5)"
   ]
  },
  {
   "cell_type": "markdown",
   "metadata": {},
   "source": [
    "내장함수와 비슷하게 동작하는 my_max 함수를 직접 작성해봅시다. \n",
    "\n",
    "(2개의 변수가 입력된다는 점에 주의합니다.)\n",
    "\n",
    "```python\n",
    "def 함수이름(숫자a, 숫자b):\n",
    "    if문을 활용하여 입력 받은 두 숫자 중 큰 수를 리턴합니다.\n",
    "```"
   ]
  },
  {
   "cell_type": "code",
   "execution_count": 6,
   "metadata": {},
   "outputs": [],
   "source": [
    "def my_max(a,b):\n",
    "    if a> b:\n",
    "        return a\n",
    "    if b>a:\n",
    "        return b"
   ]
  },
  {
   "cell_type": "code",
   "execution_count": 7,
   "metadata": {},
   "outputs": [
    {
     "data": {
      "text/plain": [
       "5"
      ]
     },
     "execution_count": 7,
     "metadata": {},
     "output_type": "execute_result"
    }
   ],
   "source": [
    "# 해당 코드를 통해 올바른 결과가 나오는지 확인하세요.\n",
    "my_max(1, 5)"
   ]
  },
  {
   "cell_type": "markdown",
   "metadata": {},
   "source": [
    "### 함수의 선언과 호출 살펴보기"
   ]
  },
  {
   "cell_type": "code",
   "execution_count": null,
   "metadata": {
    "tags": []
   },
   "outputs": [],
   "source": [
    "# 아래의 코드의 결과는 무엇일까요? 실행하기 전에 예측해봅시다.\n",
    "\n",
    "num1 = 0\n",
    "num2 = 1\n",
    "\n",
    "def func1(a, b):\n",
    "    return a + b\n",
    "    \n",
    "def func2(a, b):\n",
    "    return a - b\n",
    "    \n",
    "def func3(a, b):\n",
    "    return func1(a, 5) + func2(5, b)\n",
    "    \n",
    "result = func3(num1, num2)\n",
    "print(result)"
   ]
  },
  {
   "cell_type": "markdown",
   "metadata": {},
   "source": [
    "* [Python tutor](http://pythontutor.com/visualize.html#code=num1%20%3D%200%0Anum2%20%3D%201%0A%0Adef%20func1%28a,%20b%29%3A%0A%20%20%20%20return%20a%20%2B%20b%0A%20%20%20%20%0Adef%20func2%28a,%20b%29%3A%0A%20%20%20%20return%20a%20-%20b%0A%20%20%20%20%0Adef%20func3%28a,%20b%29%3A%0A%20%20%20%20return%20func1%28a,%205%29%20%2B%20func2%285,%20b%29%0A%20%20%20%20%0Aresult%20%3D%20func3%28num1,%20num2%29%0Aprint%28result%29&cumulative=false&curInstr=10&heapPrimitives=nevernest&mode=display&origin=opt-frontend.js&py=3&rawInputLstJSON=%5B%5D&textReferences=false)를 통해 실행 순서를 직접 확인하세요.\n",
    "\n",
    "* 함수는 호출되면 계산을 수행하고, 값을 반환하며 종료됩니다."
   ]
  },
  {
   "cell_type": "markdown",
   "metadata": {},
   "source": [
    "# 함수의 Output"
   ]
  },
  {
   "cell_type": "markdown",
   "metadata": {},
   "source": [
    "## 함수의 `return`\n",
    "\n",
    "앞서 설명한 것과 마찬가지로 함수는 반환되는 값이 있으며, 이는 어떠한 종류(~~의 객체~~)라도 상관없습니다. \n",
    " \n",
    "단, **오직 한 개의 객체**만 반환됩니다.\n",
    "\n",
    "함수가 return 되거나 종료되면, 함수를 호출한 곳으로 돌아갑니다."
   ]
  },
  {
   "cell_type": "markdown",
   "metadata": {},
   "source": [
    "### [실습] 사각형의 넓이를 구하는 함수\n",
    "> 너비와 높이를 입력 받아 사각형의 넓이와 둘레를 반환(return)하는 함수 `rectangle()`을 작성해보세요.\n",
    "\n",
    "---\n",
    "\n",
    "**[입력 예시]**\n",
    "\n",
    "```py\n",
    "rectangle(30, 20)\n",
    "```\n",
    "\n",
    "**[출력 예시]**\n",
    "\n",
    "(600, 100)"
   ]
  },
  {
   "cell_type": "markdown",
   "metadata": {},
   "source": [
    "rectangle 이라는 이름의 함수를 작성하고 호출해봅시다.\n",
    "\n",
    "(작성하려는 함수가 어떤 목적을 갖고 있는지 고민하면서 작성합니다.)\n",
    "\n",
    "- 이번 함수는 **넓이와 둘레** 2가지 값을 한번에 반환하는 함수입니다.\n",
    "- 넓이 : 너비 * 높이\n",
    "- 둘레 : 2 * (너비 + 높이)\n",
    "\n",
    "```python\n",
    "def 함수이름(너비, 높이):\n",
    "    넓이와 둘레를 구하고 저장하는 코드를 작성합니다.\n",
    "    저장된 넓이, 둘레를 함께 반환합니다.\n",
    "```"
   ]
  },
  {
   "cell_type": "code",
   "execution_count": 9,
   "metadata": {},
   "outputs": [],
   "source": [
    "def rectangle(width, height):\n",
    "    area = width * height\n",
    "    circumference = 2 * (width + height)\n",
    "    return area, circumference"
   ]
  },
  {
   "cell_type": "code",
   "execution_count": 10,
   "metadata": {},
   "outputs": [
    {
     "name": "stdout",
     "output_type": "stream",
     "text": [
      "(600, 100)\n",
      "(3500, 240)\n"
     ]
    }
   ],
   "source": [
    "# 해당 코드를 통해 올바른 결과가 나오는지 확인하세요.\n",
    "print(rectangle(30, 20))\n",
    "print(rectangle(50, 70))"
   ]
  },
  {
   "cell_type": "markdown",
   "metadata": {},
   "source": [
    "### [연습] 함수를 정의하고 값을 반환해봅시다.\n",
    " \n",
    "> 리스트 두개를 받아 각각 더한 결과를 비교하여 값이 큰 리스트를 반환하는 함수를 만들어주세요.\n",
    "\n",
    "```python\n",
    "my_list_max([10, 3], [5, 9])\n",
    "```\n",
    "---\n",
    "```\n",
    "예시 출력)\n",
    "[5, 9]\n",
    "```\n"
   ]
  },
  {
   "cell_type": "markdown",
   "metadata": {},
   "source": [
    "my_list_max 라는 이름의 함수를 작성하고 호출해봅시다.\n",
    "\n",
    "(입력되는 값이 **리스트**임에 주의합니다.)\n",
    "\n",
    "1. 입력되는 리스트a의 요소들의 합을 구하고,\n",
    "1. 입력되는 리스트b의 요소들의 합을 구하고,\n",
    "1. 계산한 두 값을 비교합니다.\n",
    "\n",
    "```python\n",
    "def 함수이름(리스트a, 리스트b):\n",
    "    if문을 활용하여 각 리스트 요소의 합을 비교하고 값이 큰 리스트를 반환하는 코드 작성\n",
    "```"
   ]
  },
  {
   "cell_type": "code",
   "execution_count": 11,
   "metadata": {},
   "outputs": [],
   "source": [
    "def my_list_max(list_a, list_b):\n",
    "    sum_a = 0\n",
    "    sum_b = 0\n",
    "    for num_a in list_a:\n",
    "        sum_a += num_a\n",
    "    for num_b in list_b:\n",
    "        sum_b += num_b\n",
    "    if sum_a < sum_b:\n",
    "        return sum_b\n",
    "    if sum_a > sum_b:\n",
    "        return sum_a"
   ]
  },
  {
   "cell_type": "code",
   "execution_count": 12,
   "metadata": {},
   "outputs": [
    {
     "name": "stdout",
     "output_type": "stream",
     "text": [
      "14\n"
     ]
    }
   ],
   "source": [
    "# 해당 코드를 통해 올바른 결과가 나오는지 확인하세요.\n",
    "print(my_list_max([10, 3], [5, 9]))"
   ]
  },
  {
   "cell_type": "markdown",
   "metadata": {},
   "source": [
    "# 함수의 입력(Input)"
   ]
  },
  {
   "cell_type": "markdown",
   "metadata": {},
   "source": [
    "## 매개변수(parameter) & 전달인자(argument)\n",
    "\n",
    "### 매개변수(parameter)\n",
    "\n",
    "```python\n",
    "def func(x):\n",
    "      return x + 2\n",
    "```\n",
    "\n",
    "* `x` 는 매개변수(parameter)입니다.\n",
    "* 입력을 받아 함수 내부에서 활용할 `변수`입니다.\n",
    "* **함수를 정의하는 부분에서 확인할 수 있습니다.**\n",
    "\n",
    "\n",
    "### 전달인자(argument)\n",
    "\n",
    "```python\n",
    "func(2)\n",
    "```\n",
    "\n",
    "* `2` 는 전달인자(argument)입니다.\n",
    "* 실제로 전달되는 `값`입니다.\n",
    "* **함수를 호출하는 부분에서 볼 수 있습니다.**\n",
    "    \n",
    "> 주로 혼용해서 사용하지만 엄밀하게 따지면 둘은 다르게 구분되어 사용됩니다. 개념적 구분보다 함수가 작동하는 원리를 이해하는게 더 중요합니다."
   ]
  },
  {
   "cell_type": "markdown",
   "metadata": {},
   "source": [
    "## 함수의 인자\n",
    "\n",
    "함수는 입력값(input)으로 `인자(argument)`를 넘겨줄 수 있습니다."
   ]
  },
  {
   "cell_type": "markdown",
   "metadata": {},
   "source": [
    "### 위치 인자 (Positional Arguments)\n",
    "\n",
    "기본적으로 인자는 위치에 따라 함수 내에 전달됩니다. "
   ]
  },
  {
   "cell_type": "markdown",
   "metadata": {},
   "source": [
    "### [연습] 원기둥의 부피\n",
    "\n",
    "> 원기둥의 반지름(r)과 높이(h)를 받아서 부피를 return하는 함수 `cylinder()`를 작성하세요.\n",
    ">\n",
    "> *원기둥 부피 = 3.14 * 반지름 * 반지름 * 높이*"
   ]
  },
  {
   "cell_type": "markdown",
   "metadata": {},
   "source": [
    "`cylinder` 라는 이름의 함수를 작성하고 호출해봅시다.\n",
    "\n",
    "(함수 선언의 반복 연습입니다.)\n",
    " \n",
    "- 원기둥 부피 : 원의 넓이 * 높이 \n",
    "- 3.14 * (반지름의 제곱) * 높이\n",
    "- 3.14 * 반지름 * 반지름 * 높이\n",
    "\n",
    "```python\n",
    "def 함수이름(반지름, 높이):\n",
    "    원기둥 부피를 계산하여 반환합니다.\n",
    "```"
   ]
  },
  {
   "cell_type": "code",
   "execution_count": 13,
   "metadata": {},
   "outputs": [],
   "source": [
    "def cylinder(r, height):\n",
    "    return 3.14 * r * r * height"
   ]
  },
  {
   "cell_type": "code",
   "execution_count": 14,
   "metadata": {},
   "outputs": [
    {
     "name": "stdout",
     "output_type": "stream",
     "text": [
      "157.0\n",
      "62.800000000000004\n"
     ]
    }
   ],
   "source": [
    "# 해당 코드를 통해 올바른 결과가 나오는지 확인하세요.\n",
    "print(cylinder(5, 2))\n",
    "print(cylinder(2, 5)) # 순서를 바꾸면 다른 값이 나옵니다."
   ]
  },
  {
   "cell_type": "markdown",
   "metadata": {},
   "source": [
    "<center>\n",
    "    <img src=\"https://user-images.githubusercontent.com/18046097/61181743-2a1d9400-a665-11e9-8df2-e4856caf16e4.png\", alt=\"function example 02\">\n",
    "</center>"
   ]
  },
  {
   "cell_type": "markdown",
   "metadata": {},
   "source": [
    "### 기본 인자 값 (Default Argument Values)\n",
    "\n",
    "**함수를 정의할 때,** 기본값을 지정하여 함수를 호출할 때 인자의 값을 설정하지 않도록하여, 정의된 것 보다 더 적은 개수의 인자들로 호출 될 수 있습니다.\n",
    "\n",
    "---\n",
    "\n",
    "**활용법**\n",
    "```python\n",
    "def func(p1=v1):\n",
    "    return p1\n",
    "```"
   ]
  },
  {
   "cell_type": "markdown",
   "metadata": {},
   "source": [
    "### [연습] 기본 인자 값 활용\n",
    "\n",
    "> 이름을 받아서 다음과 같이 인사하는 함수 `greeting()`을 작성하세요. 이름이 길동이면, \"길동, 안녕?\" 이름이 없으면 \"익명, 안녕?\" 으로 출력하세요."
   ]
  },
  {
   "cell_type": "markdown",
   "metadata": {},
   "source": [
    "greeting 이라는 이름의 함수를 작성하고 호출해봅시다.\n",
    "\n",
    "(매개변수의 기본인자에 대한 연습입니다.)\n",
    "\n",
    "**입력된 값이 없을 때** 라는 상황과 **그 상황에서 사용할 값**이라는 점에 주의합니다.\n",
    "\n",
    "- 입력된 값이 길동 => '길동, 안녕?'\n",
    "- 값이 없는 경우 => '익명, 안녕?'\n",
    "\n",
    "```python\n",
    "def 함수이름(이름='입력이 없으면 사용할 값'):\n",
    "    매개변수를 활용하여 문장(문자열)을 완성하여 리턴합니다.\n",
    "```"
   ]
  },
  {
   "cell_type": "code",
   "execution_count": 16,
   "metadata": {},
   "outputs": [],
   "source": [
    "def greeting(이름 = '익명'):\n",
    "    return f'{이름}, 안녕?'"
   ]
  },
  {
   "cell_type": "code",
   "execution_count": 19,
   "metadata": {},
   "outputs": [
    {
     "data": {
      "text/plain": [
       "'철수, 안녕?'"
      ]
     },
     "execution_count": 19,
     "metadata": {},
     "output_type": "execute_result"
    }
   ],
   "source": [
    "# 해당 코드를 통해 올바른 결과가 나오는지 확인하세요.\n",
    "greeting()\n",
    "greeting('철수')"
   ]
  },
  {
   "cell_type": "markdown",
   "metadata": {},
   "source": [
    "* 기본 인자 값이 설정되어 있더라도 기존의 함수와 동일하게 호출 가능합니다.\n",
    "\n",
    "\n",
    "<center>\n",
    "    <img src=\"https://user-images.githubusercontent.com/18046097/61181744-2a1d9400-a665-11e9-9095-6924ca11122e.png\">\n",
    "</center>"
   ]
  },
  {
   "cell_type": "markdown",
   "metadata": {},
   "source": [
    "* 호출시 인자가 없으면 기본 인자 값이 활용됩니다.\n",
    "\n",
    "\n",
    "<center>\n",
    "    <img src=\"https://user-images.githubusercontent.com/18046097/61181745-2a1d9400-a665-11e9-95ef-e50e463e1583.png\", alt=\"function example 03\">\n",
    "</center>"
   ]
  },
  {
   "cell_type": "markdown",
   "metadata": {},
   "source": [
    "**\\*주의\\* 단, 기본 인자값(Default Argument Value)을 가지는 인자 다음에 기본 값이 없는 인자를 사용할 수는 없습니다.**"
   ]
  },
  {
   "cell_type": "code",
   "execution_count": 20,
   "metadata": {},
   "outputs": [
    {
     "ename": "SyntaxError",
     "evalue": "non-default argument follows default argument (1539014207.py, line 2)",
     "output_type": "error",
     "traceback": [
      "\u001b[1;36m  Input \u001b[1;32mIn [20]\u001b[1;36m\u001b[0m\n\u001b[1;33m    def greeting(name='john', age):\u001b[0m\n\u001b[1;37m                                 ^\u001b[0m\n\u001b[1;31mSyntaxError\u001b[0m\u001b[1;31m:\u001b[0m non-default argument follows default argument\n"
     ]
    }
   ],
   "source": [
    "# 다음 코드를 바로 실행해서 오류를 확인해봅시다.\n",
    "def greeting(name='john', age):\n",
    "    return f'{name}은 {age}살입니다.'"
   ]
  },
  {
   "cell_type": "markdown",
   "metadata": {},
   "source": [
    "오류가 발생하지 않도록 다음 셀에 직접 수정하고 실행해봅시다.\n",
    "\n",
    "(오류가 발생한 원인을 친절히 안내해준다는 것을 다시 한번 확인 할 수 있습니다.)\n",
    "\n",
    "- Error 문장을 다시 읽어보면, `non-default argument follows default argument`\n",
    "- 즉, 기본 인자는 기본 인자가 아닌 친구들 다음에 위치해야한다고 알려주고 있습니다. 수정해봅시다.\n",
    "\n",
    "```python\n",
    "def 함수이름(기본인자가 아닌 친구들, 기본인자):\n",
    "    매개변수를 활용하여 문장(문자열)을 완성해서 반환합니다.\n",
    "```"
   ]
  },
  {
   "cell_type": "code",
   "execution_count": null,
   "metadata": {},
   "outputs": [],
   "source": []
  },
  {
   "cell_type": "code",
   "execution_count": null,
   "metadata": {},
   "outputs": [],
   "source": [
    "# 해당 코드를 통해 올바른 결과가 나오는지 확인하세요.\n",
    "greeting(1)\n",
    "greeting(2, 'json')"
   ]
  },
  {
   "cell_type": "markdown",
   "metadata": {},
   "source": [
    "### 키워드 인자 (Keyword Arguments)\n",
    "\n",
    "**함수를 호출할 때** 키워드 인자를 활용하여 직접 변수의 이름으로 특정 인자를 전달할 수 있습니다."
   ]
  },
  {
   "cell_type": "code",
   "execution_count": 21,
   "metadata": {},
   "outputs": [],
   "source": [
    "# 다음 코드를 실행해서 greeting 함수를 선언합니다.\n",
    "def greeting(age, name):\n",
    "    return f'{name}은 {age}살입니다.'"
   ]
  },
  {
   "cell_type": "code",
   "execution_count": null,
   "metadata": {},
   "outputs": [],
   "source": [
    "# 아래와 같이 키워드 인자를 사용해서 함수를 호출할 수 있습니다."
   ]
  },
  {
   "cell_type": "code",
   "execution_count": 22,
   "metadata": {},
   "outputs": [
    {
     "data": {
      "text/plain": [
       "'철수은 24살입니다.'"
      ]
     },
     "execution_count": 22,
     "metadata": {},
     "output_type": "execute_result"
    }
   ],
   "source": [
    "greeting(name='철수', age=24)"
   ]
  },
  {
   "cell_type": "code",
   "execution_count": null,
   "metadata": {},
   "outputs": [],
   "source": [
    "# 위치 인자와 함께 사용할 수 있습니다."
   ]
  },
  {
   "cell_type": "code",
   "execution_count": 23,
   "metadata": {},
   "outputs": [
    {
     "data": {
      "text/plain": [
       "'철수은 24살입니다.'"
      ]
     },
     "execution_count": 23,
     "metadata": {},
     "output_type": "execute_result"
    }
   ],
   "source": [
    "greeting(24, name='철수')"
   ]
  },
  {
   "cell_type": "markdown",
   "metadata": {},
   "source": [
    "* **단 아래와 같이 `키워드 인자`를 활용한 다음에 `위치 인자`를 활용할 수는 없습니다.**"
   ]
  },
  {
   "cell_type": "code",
   "execution_count": null,
   "metadata": {},
   "outputs": [],
   "source": [
    "# 다음 코드를 실행해서 오류를 직접 확인해봅시다.\n",
    "greeting(age=24, '철수')"
   ]
  },
  {
   "cell_type": "markdown",
   "metadata": {},
   "source": [
    "## 정해지지 않은 여러 개의 인자 처리\n"
   ]
  },
  {
   "cell_type": "markdown",
   "metadata": {},
   "source": [
    "우리가 주로 활용하는 `print()` 함수는 [파이썬 표준 라이브러리의 내장함수](https://docs.python.org/ko/3.6/library/functions.html) 중 하나이며, 다음과 같이 구성되어있습니다.\n",
    "> <center>\n",
    "    <img src=\"https://user-images.githubusercontent.com/18046097/61181751-2b4ec100-a665-11e9-9a7c-a19a8c445cfa.png\", alt=\"print\">\n",
    "</center>"
   ]
  },
  {
   "cell_type": "code",
   "execution_count": null,
   "metadata": {},
   "outputs": [],
   "source": [
    "# 지금까지 열심히 사용했던 print에는 여러 값을 넣을 수 있습니다."
   ]
  },
  {
   "cell_type": "code",
   "execution_count": 24,
   "metadata": {},
   "outputs": [
    {
     "name": "stdout",
     "output_type": "stream",
     "text": [
      "첫번째 문장\n",
      "두번째 문장_세번째 문장 네번째 문장\n",
      "다섯번째 문장/마지막 문장끝!"
     ]
    }
   ],
   "source": [
    "print('첫번째 문장')\n",
    "print('두번째 문장', end='_')\n",
    "print('세번째 문장', '네번째 문장')\n",
    "print('다섯번째 문장', '마지막 문장', sep='/', end='끝!')"
   ]
  },
  {
   "cell_type": "markdown",
   "metadata": {},
   "source": [
    "### 가변(임의) 인자 리스트(Arbitrary Argument Lists)\n",
    "\n",
    "앞서 설명한 `print()`처럼 개수가 정해지지 않은 임의의 인자를 받기 위해서는 **함수를 정의할 때** 가변 인자 리스트`*args`를 활용합니다. \n",
    "\n",
    "가변 인자 리스트는 `tuple` 형태로 처리가 되며, 매개변수에 `*`로 표현합니다. \n",
    "\n",
    "---\n",
    "\n",
    "**활용법**\n",
    "\n",
    "```python\n",
    "def func(a, b, *args):\n",
    "```\n",
    "> `*args` : 임의의 개수의 위치인자를 받음을 의미\n",
    "> \n",
    "> 보통, 이 가변 인자 리스트는 매개변수 목록의 마지막에 옵니다."
   ]
  },
  {
   "cell_type": "code",
   "execution_count": null,
   "metadata": {},
   "outputs": [],
   "source": [
    "# 앞서 살펴봤던 print문에 대한 공식문서를 다시 한번 살펴봅니다.\n",
    "# 바로, *obejcts를 통해 임의의 숫자의 인자를 모두 처리(가변 인자 리스트)하고 있다는 것을 알 수 있습니다."
   ]
  },
  {
   "cell_type": "code",
   "execution_count": 25,
   "metadata": {},
   "outputs": [
    {
     "name": "stdout",
     "output_type": "stream",
     "text": [
      "hi,안녕,Guten Tag,gonnichiwa\n"
     ]
    }
   ],
   "source": [
    "print('hi', '안녕', 'Guten Tag', 'gonnichiwa', sep=',')"
   ]
  },
  {
   "cell_type": "code",
   "execution_count": null,
   "metadata": {},
   "outputs": [],
   "source": [
    "# 또한, args는 함수 내부에서 tuple 자료형으로 사용됩니다."
   ]
  },
  {
   "cell_type": "code",
   "execution_count": 26,
   "metadata": {
    "ExecuteTime": {
     "end_time": "2021-01-15T07:38:26.599448Z",
     "start_time": "2021-01-15T07:38:26.588437Z"
    }
   },
   "outputs": [
    {
     "name": "stdout",
     "output_type": "stream",
     "text": [
      "(1, 2)\n",
      "<class 'tuple'>\n"
     ]
    }
   ],
   "source": [
    "def my_func(*args):\n",
    "    return args\n",
    "    \n",
    "print(my_func(1, 2))\n",
    "print(type(my_func(1, 2)))"
   ]
  },
  {
   "cell_type": "markdown",
   "metadata": {},
   "source": [
    "### [연습] 가변 인자 리스트를 사용해봅시다.\n",
    "\n",
    "> 정수를 여러 개 받아서 가장 큰 값을 반환(return)하는 함수 `my_max()`를 작성하세요.\n",
    ">\n",
    "> max 내장 함수 사용은 금지합니다.\n",
    "\n",
    "```python\n",
    "my_max(10, 20, 30, 50)\n",
    "```\n",
    "---\n",
    "```\n",
    "예시출력)\n",
    "50\n",
    "```"
   ]
  },
  {
   "cell_type": "code",
   "execution_count": null,
   "metadata": {},
   "outputs": [],
   "source": [
    "# 정해지지 않은 여러 개의 인자를 내장 함수 max에서는 어떻게 처리하는지 확인해봅시다."
   ]
  },
  {
   "cell_type": "code",
   "execution_count": 27,
   "metadata": {},
   "outputs": [
    {
     "data": {
      "text/plain": [
       "4"
      ]
     },
     "execution_count": 27,
     "metadata": {},
     "output_type": "execute_result"
    }
   ],
   "source": [
    "max(1, 2, 3, 4)"
   ]
  },
  {
   "cell_type": "markdown",
   "metadata": {},
   "source": [
    "이제 my_max 이름의 함수를 직접 선언해봅시다.\n",
    "\n",
    "용어 이름은 가변 인자 리스트이지만, 기본적으로 튜플 자료형임에 주의합니다.\n",
    "- `*` (별표 1개)를 매개변수에 작성해야합니다.\n",
    "- 말 그대로 정해지지 않았기 때문에, 이번 예제에서는 반복문을 통해 간편하게 개별 값에 접근합니다.\n",
    "\n",
    "```python\n",
    "def 함수이름(가변 인자 리스트):\n",
    "    가변 인자 리스트 중 처음 값을 기준이 되는 값으로 할당합니다.\n",
    "    반복문을 통해 입력 받은 값들을 검사합니다.\n",
    "    조건문으로 기준이 되는 값과 다른 요소들을 비교해서, 더 큰 값을 기준값으로 변경합니다.\n",
    "    찾아낸 최대값을 반환합니다.\n",
    "```     "
   ]
  },
  {
   "cell_type": "code",
   "execution_count": 30,
   "metadata": {},
   "outputs": [],
   "source": [
    "def my_max(*agrs):\n",
    "    max_num = agrs[0]\n",
    "    for num in agrs:\n",
    "        if num > max_num:\n",
    "            max_num = num\n",
    "    print(max_num)"
   ]
  },
  {
   "cell_type": "code",
   "execution_count": 31,
   "metadata": {},
   "outputs": [
    {
     "name": "stdout",
     "output_type": "stream",
     "text": [
      "-1\n"
     ]
    }
   ],
   "source": [
    "# 다음 코드를 실행해 올바른 결과가 나오는지 확인하세요.\n",
    "my_max(-1, -2, -3, -4)"
   ]
  },
  {
   "cell_type": "markdown",
   "metadata": {},
   "source": [
    "### 가변(임의) 키워드 인자(Arbitrary Keyword Arguments)\n",
    "\n",
    "정해지지 않은 키워드 인자들은 **함수를 정의할 때** 가변 키워드 인자 `**kwargs`를 활용합니다. \n",
    "\n",
    "가변 키워드 인자는 **`dict`** 형태로 처리가 되며, 매개변수에 `**`로 표현합니다. \n",
    "\n",
    "---\n",
    "\n",
    "**활용법**\n",
    "\n",
    "```python\n",
    "def func(**kwargs):\n",
    "```\n",
    "> `**kwargs` : 임의의 개수의 키워드 인자를 받음을 의미합니다"
   ]
  },
  {
   "cell_type": "markdown",
   "metadata": {},
   "source": [
    "우리가 dictionary를 만들 때 사용할 수 있는 `dict()` 함수는 [파이썬 표준 라이브러리의 내장함수](https://docs.python.org/ko/3.6/library/functions.html) 중 하나이며, 다음과 같이 구성되어 있습니다.\n",
    "> <center>\n",
    "    <img src=\"https://user-images.githubusercontent.com/18046097/61181740-2984fd80-a665-11e9-94cf-7f5ab41873b1.png\", alt=\"dictionary\">\n",
    "</center>"
   ]
  },
  {
   "cell_type": "code",
   "execution_count": null,
   "metadata": {},
   "outputs": [],
   "source": [
    "# 딕셔너리 생성 함수 예시입니다.\n",
    "# 가변 키워드 인자 활용을 확인해보기 위한 예시입니다."
   ]
  },
  {
   "cell_type": "code",
   "execution_count": 32,
   "metadata": {},
   "outputs": [
    {
     "name": "stdout",
     "output_type": "stream",
     "text": [
      "{'한국어': '안녕', '영어': 'hi'}\n"
     ]
    }
   ],
   "source": [
    "hi = dict(한국어='안녕', 영어='hi')\n",
    "print(hi)"
   ]
  },
  {
   "cell_type": "code",
   "execution_count": null,
   "metadata": {},
   "outputs": [],
   "source": [
    "# 식별자는 숫자만으로는 이루어질 수가 없다는 것에 주의합니다.\n",
    "# 키워드인자로 넘기면 함수 안에서 식별자(변수이름)로 쓰이기 때문입니다."
   ]
  },
  {
   "cell_type": "code",
   "execution_count": 33,
   "metadata": {},
   "outputs": [
    {
     "ename": "SyntaxError",
     "evalue": "expression cannot contain assignment, perhaps you meant \"==\"? (985225003.py, line 1)",
     "output_type": "error",
     "traceback": [
      "\u001b[1;36m  Input \u001b[1;32mIn [33]\u001b[1;36m\u001b[0m\n\u001b[1;33m    dict(1=1, 2=2)  # SyntaxError\u001b[0m\n\u001b[1;37m         ^\u001b[0m\n\u001b[1;31mSyntaxError\u001b[0m\u001b[1;31m:\u001b[0m expression cannot contain assignment, perhaps you meant \"==\"?\n"
     ]
    }
   ],
   "source": [
    "dict(1=1, 2=2)  # SyntaxError"
   ]
  },
  {
   "cell_type": "code",
   "execution_count": 34,
   "metadata": {},
   "outputs": [
    {
     "name": "stdout",
     "output_type": "stream",
     "text": [
      "{1: 1, 2: 2}\n",
      "{1: 1, 2: 2}\n"
     ]
    }
   ],
   "source": [
    "# Key가 숫자인 딕셔너리를 만들고 싶다면, 아래와 같이 사용해야합니다.\n",
    "print(dict([(1, 1), (2, 2)]))\n",
    "print(dict(((1,1), (2,2))))"
   ]
  },
  {
   "cell_type": "code",
   "execution_count": null,
   "metadata": {},
   "outputs": [],
   "source": [
    "# 아래 셀의 코드를 실행시켜 kwargs가 딕셔너리로 처리되는 것을 확인해봅시다."
   ]
  },
  {
   "cell_type": "code",
   "execution_count": 35,
   "metadata": {},
   "outputs": [
    {
     "name": "stdout",
     "output_type": "stream",
     "text": [
      "{'한국어': '안녕', '영어': 'hi', '독일어': 'Guten Tag'}\n"
     ]
    }
   ],
   "source": [
    "def my_dict(**kwargs):\n",
    "    return kwargs\n",
    "\n",
    "print(my_dict(한국어='안녕', 영어='hi', 독일어='Guten Tag'))"
   ]
  },
  {
   "cell_type": "markdown",
   "metadata": {},
   "source": [
    "### [실습] URL 생성기\n",
    "\n",
    "> `my_url()` 함수를 만들어 완성된 URL을 반환하는 함수를 작성하세요.\n",
    ">\n",
    ">\n",
    "\n",
    "```python\n",
    "my_url(sidoname='서울', key='asdf')\n",
    "```\n",
    "\n",
    "---\n",
    "\n",
    "```\n",
    "예시 출력)\n",
    "https://api.go.kr?sidoname=서울&key=asdf&\n",
    "```"
   ]
  },
  {
   "cell_type": "markdown",
   "metadata": {},
   "source": [
    "입력받은 가변 키워드 인자를 활용하여 'https://api.go.kr?'를 BASE_URL로 사용하는 URL을 생성해봅시다.\n",
    "\n",
    "my_url 이라는 이름의 함수를 직접 작성해봅시다.\n",
    "\n",
    "가변 키워드 인자(kwargs)를 사용하는 실습입니다.\n",
    "- `**` (별표 2개)를 변수명 앞에 붙여서 작성하는 문법 사항에 주의합니다.\n",
    "- 또한, 가변 키워드 인자는 기본적으로 딕셔너리 자료형이라는 점에 주의합니다.\n",
    "- 이번에도 정해지지 않은 수의 인자가 입력되기 때문에 반복문을 활용합니다.\n",
    "\n",
    "```python\n",
    "def 함수이름(가변 키워드 인자):\n",
    "    기본이 되는 url인 'https://api.go.kr?'를 미리 url 변수에 할당합니다.\n",
    "    딕셔너리를 반복문으로 조회하기 위해 .items() 메서드를 활용합니다.\n",
    "    해당 메서드로 얻어 낼수 있는 key값과, value값을 활용하여 url을 완성합니다.\n",
    "    완성된 url을 반환합니다.\n",
    "```"
   ]
  },
  {
   "cell_type": "code",
   "execution_count": 42,
   "metadata": {},
   "outputs": [],
   "source": [
    "def my_url(**kwargs):\n",
    "    url = 'https://api.go.kr?'\n",
    "    for key, value in kwargs.items():\n",
    "        return url + 'sidoname=' + kwargs['sidoname'] + '&key='+ kwargs['key'] + '&'"
   ]
  },
  {
   "cell_type": "code",
   "execution_count": 43,
   "metadata": {
    "ExecuteTime": {
     "end_time": "2021-01-15T07:33:07.945581Z",
     "start_time": "2021-01-15T07:33:07.931569Z"
    }
   },
   "outputs": [
    {
     "name": "stdout",
     "output_type": "stream",
     "text": [
      "https://api.go.kr?sidoname=서울&key=asdf&\n"
     ]
    }
   ],
   "source": [
    "# 다음 코드를 실행하여 결과를 확인해봅시다.\n",
    "print(my_url(sidoname='서울', key='asdf'))"
   ]
  },
  {
   "cell_type": "markdown",
   "metadata": {},
   "source": [
    "<p style=\"font-size: 33px; font-weight: 700; margin-bottom: 3rem\">함수(function) II</p>\n",
    "\n",
    "- 함수와 스코프\n",
    "- 재귀 함수\n",
    "- 함수 응용"
   ]
  },
  {
   "cell_type": "markdown",
   "metadata": {},
   "source": [
    "# 함수와 스코프(scope)\n",
    "\n",
    "함수는 코드 내부에 스코프(scope)를 생성합니다. 함수로 생성된 공간은 `지역 스코프(local scope)`라고 불리며, 그 외의 공간인 `전역 스코프(global scope)`와 구분됩니다.\n",
    "\n",
    "* **전역 스코프(`global scope`)**: 코드 어디에서든 참조할 수 있는 공간\n",
    "* **지역 스코프(`local scope`)**: 함수가 만든 스코프로 함수 내부에서만 참조할 수 있는 공간\n",
    "\n",
    "\n",
    "* **전역 변수(`global variable`)**: 전역 스코프에 정의된 변수\n",
    "* **지역 변수(`local variable`)**: 로컬 스코프에 정의된 변수\n"
   ]
  },
  {
   "cell_type": "code",
   "execution_count": null,
   "metadata": {},
   "outputs": [],
   "source": [
    "# 전역 스코프와 지역 스코프를 알아봅시다.\n",
    "# 먼저, 지역스코프에서 전역스코프의 변수는 참조할 수 있습니다."
   ]
  },
  {
   "cell_type": "code",
   "execution_count": 46,
   "metadata": {},
   "outputs": [
    {
     "name": "stdout",
     "output_type": "stream",
     "text": [
      "10\n",
      "10\n"
     ]
    }
   ],
   "source": [
    "# 전역 스코프(global scope)\n",
    "a = 10 # 전역 변수(global)\n",
    "\n",
    "def func(b):\n",
    "    # 지역 스코프(local scope)\n",
    "    c = 20 # 지역 변수(local variable)\n",
    "    print(a)\n",
    "    print(b)\n",
    "\n",
    "func(a)"
   ]
  },
  {
   "cell_type": "code",
   "execution_count": null,
   "metadata": {},
   "outputs": [],
   "source": [
    "# 전역 스코프에서는 지역 스코프의 변수를 참조할 수 없습니다.\n",
    "# func 함수 바깥에서 함수 안의 지역 변수 c를 출력하고 오류를 확인해봅시다."
   ]
  },
  {
   "cell_type": "code",
   "execution_count": null,
   "metadata": {},
   "outputs": [],
   "source": [
    "# 전역 스코프(global scope)\n",
    "a = 10 # 전역 변수(global)\n",
    "\n",
    "def func(b):\n",
    "    # 지역 스코프(local scope)\n",
    "    c = 20 # 지역 변수(local variable)\n",
    "    print(a)\n",
    "    print(b)\n",
    "\n",
    "func(a)\n",
    "\n",
    "# 변수 c는 접근 불가합니다.\n",
    "print(c)"
   ]
  },
  {
   "cell_type": "code",
   "execution_count": null,
   "metadata": {},
   "outputs": [],
   "source": [
    "# 전역 스코프와 지역 스코프에 같은 이름의 변수를 만들면 어떻게 되는지 확인해봅시다."
   ]
  },
  {
   "cell_type": "code",
   "execution_count": 47,
   "metadata": {},
   "outputs": [
    {
     "name": "stdout",
     "output_type": "stream",
     "text": [
      "30\n",
      "10\n"
     ]
    }
   ],
   "source": [
    "a = 10 # 전역 변수(global)\n",
    "\n",
    "def func(b):\n",
    "    a = 30 # 지역 변수(local variable)\n",
    "    print(a)\n",
    "    \n",
    "func(a)\n",
    "print(a)"
   ]
  },
  {
   "cell_type": "markdown",
   "metadata": {
    "tags": []
   },
   "source": [
    "### 변수의 수명주기(lifecycle)\n",
    "\n",
    "변수의 이름은 각자의 `수명주기(lifecycle)`가 있습니다.\n",
    "\n",
    "* **빌트인 스코프`(built-in scope)`**: 파이썬이 실행된 이후부터 영원히 유지\n",
    "\n",
    "\n",
    "* **전역 스코프`(global scope)`**: 모듈이 호출된 시점 이후 혹은 이름 선언된 이후부터 인터프리터가 끝날 때 까지 유지\n",
    "\n",
    "\n",
    "* **지역(함수) 스코프`(local scope)`**: 함수가 호출될 때 생성되고, 함수가 종료될 때까지 유지 (함수 내에서 처리되지 않는 예외를 일으킬 때 삭제됨)"
   ]
  },
  {
   "cell_type": "markdown",
   "metadata": {},
   "source": [
    "## 이름 검색(resolution) 규칙\n",
    "\n",
    "파이썬에서 사용되는 이름(식별자)들은 이름공간(namespace)에 저장되어 있습니다.\n",
    "\n",
    "아래와 같은 순서로 이름을 찾아나가며, `LEGB Rule` 이라고 부릅니다.\n",
    "\n",
    "* `L`ocal scope: 함수\n",
    "\n",
    "\n",
    "* `E`nclosed scope: 특정 함수의 상위 함수 \n",
    "\n",
    "\n",
    "* `G`lobal scope: 함수 밖의 변수 혹은 import된 모듈\n",
    "\n",
    "\n",
    "* `B`uilt-in scope: 파이썬안에 내장되어 있는 함수 또는 속성"
   ]
  },
  {
   "cell_type": "code",
   "execution_count": null,
   "metadata": {},
   "outputs": [],
   "source": [
    "# 이것을 통해 첫시간에 내장함수의 식별자를 사용할 수 없었던 예제에서 오류가 생기는 이유를 확인할 수 있습니다.\n",
    "# Built-in scope와 Global scope를 알아봅시다."
   ]
  },
  {
   "cell_type": "code",
   "execution_count": 48,
   "metadata": {},
   "outputs": [
    {
     "ename": "TypeError",
     "evalue": "'str' object is not callable",
     "output_type": "error",
     "traceback": [
      "\u001b[1;31m---------------------------------------------------------------------------\u001b[0m",
      "\u001b[1;31mTypeError\u001b[0m                                 Traceback (most recent call last)",
      "Input \u001b[1;32mIn [48]\u001b[0m, in \u001b[0;36m<module>\u001b[1;34m\u001b[0m\n\u001b[0;32m      1\u001b[0m \u001b[38;5;28mprint\u001b[39m \u001b[38;5;241m=\u001b[39m \u001b[38;5;124m'\u001b[39m\u001b[38;5;124mssafy\u001b[39m\u001b[38;5;124m'\u001b[39m\n\u001b[1;32m----> 2\u001b[0m \u001b[38;5;28;43mprint\u001b[39;49m\u001b[43m(\u001b[49m\u001b[38;5;241;43m3\u001b[39;49m\u001b[43m)\u001b[49m\n",
      "\u001b[1;31mTypeError\u001b[0m: 'str' object is not callable"
     ]
    }
   ],
   "source": [
    "print = 'ssafy'\n",
    "print(3)"
   ]
  },
  {
   "cell_type": "code",
   "execution_count": null,
   "metadata": {},
   "outputs": [],
   "source": [
    "# print라는 이름(식별자)이 'ssafy'라는 문자열 정보를 저장한 하나의 변수가 되었습니다.\n",
    "# 내장 함수인 print 함수를 다시 사용할 수 있도록 print라는 이름의 변수를 삭제합니다."
   ]
  },
  {
   "cell_type": "code",
   "execution_count": 49,
   "metadata": {},
   "outputs": [],
   "source": [
    "del print"
   ]
  },
  {
   "cell_type": "markdown",
   "metadata": {},
   "source": [
    "## \n",
    "\n",
    "1. `print()` 코드가 실행되면\n",
    "\n",
    "\n",
    "2. 함수에서 실행된 코드가 아니기 때문에 `L`, `E` 를 건너 뛰고,\n",
    "\n",
    "\n",
    "3. `print`라는 식별자를 Global scope에서 찾아서 `print = ssafy`를 가져오고, \n",
    "\n",
    "\n",
    "4. 이는 함수가 아니라 변수이기 때문에 `not callable`하다라는 오류를 내뱉게 됩니다.\n",
    "\n",
    "\n",
    "5. 우리가 원하는 `print()`은 Built-in scope에 있기 때문입니다."
   ]
  },
  {
   "cell_type": "code",
   "execution_count": null,
   "metadata": {},
   "outputs": [],
   "source": [
    "# Global scope(G)와 Local scope(L)를 다시 한번 복습합니다."
   ]
  },
  {
   "cell_type": "code",
   "execution_count": 50,
   "metadata": {},
   "outputs": [
    {
     "data": {
      "text/plain": [
       "3"
      ]
     },
     "execution_count": 50,
     "metadata": {},
     "output_type": "execute_result"
    }
   ],
   "source": [
    "a = 1 # 전역 변수 a\n",
    "def local_scope(a):\n",
    "    return a # 지역 변수 a\n",
    "\n",
    "local_scope(3)"
   ]
  },
  {
   "cell_type": "code",
   "execution_count": null,
   "metadata": {
    "scrolled": true
   },
   "outputs": [],
   "source": [
    "# 앞선 내용(G & L)을 확장하여 LEGB Rule을 자세히 알아봅시다.\n",
    "# 각 변수가 어느 스코프에 해당하는 변수인지 확인해보고 왜 그렇게 되는지 고민해보세요."
   ]
  },
  {
   "cell_type": "code",
   "execution_count": 51,
   "metadata": {},
   "outputs": [
    {
     "name": "stdout",
     "output_type": "stream",
     "text": [
      "30 20 40\n"
     ]
    }
   ],
   "source": [
    "a = 10\n",
    "b = 20\n",
    "def enclosed():\n",
    "    a = 30\n",
    "    def local():\n",
    "        c = 40\n",
    "        print(a, b, c)\n",
    "    local()\n",
    "    a = 50\n",
    "enclosed()"
   ]
  },
  {
   "cell_type": "code",
   "execution_count": null,
   "metadata": {},
   "outputs": [],
   "source": [
    "# 전역 변수를 바꿀 수 있을까요?"
   ]
  },
  {
   "cell_type": "code",
   "execution_count": null,
   "metadata": {},
   "outputs": [],
   "source": [
    "# 기본적으로 지역 스코프에서 전역 스코프의 변수를 바꿀 수는 없습니다.\n",
    "# 아래 셀의 코드에서 함수 내부의 global_num은 지역 변수로 생성됩니다."
   ]
  },
  {
   "cell_type": "code",
   "execution_count": null,
   "metadata": {},
   "outputs": [],
   "source": [
    "global_num = 3\n",
    "def local_scope():\n",
    "    global_num = 5\n",
    "\n",
    "local_scope()\n",
    "print(global_num)"
   ]
  },
  {
   "cell_type": "code",
   "execution_count": null,
   "metadata": {},
   "outputs": [],
   "source": [
    "# 전역에 있는 변수의 값을 변경하고 싶다면,\n",
    "# 아래와 같이 global 키워드를 사용하여 지역 스코프에서 전역 변수의 값을 바꿀 수 있습니다."
   ]
  },
  {
   "cell_type": "code",
   "execution_count": null,
   "metadata": {},
   "outputs": [],
   "source": [
    "global_num = 3\n",
    "def local_scope():\n",
    "    global global_num\n",
    "    global_num = 5\n",
    "\n",
    "local_scope()\n",
    "print(global_num)"
   ]
  },
  {
   "cell_type": "markdown",
   "metadata": {},
   "source": [
    "* 기본적으로 함수에서 선언된 변수는 Local scope에 생성되며, 함수 종료 시 사라집니다.\n",
    "* 해당 스코프에 변수가 없는 경우 LEGB rule에 의해 이름을 검색합니다.\n",
    "    * 변수에 접근은 가능하지만, 해당 변수를 수정할 수는 없습니다.\n",
    "    * 값을 할당하는 경우 해당 스코프의 이름공간에 새롭게 생성되기 때문입니다.\n",
    "    * **단, 함수 내에서 필요한 상위 스코프 변수는 인자로 넘겨서 활용합니다.** (클로저 제외)\n",
    "* 상위 스코프에 있는 변수를 수정하고 싶다면 global, nonlocal 키워드를 활용 가능합니다.\n",
    "    * 단, 코드가 복잡해지면서 변수의 변경을 추적하기 어렵고, 예기치 못한 오류가 발생합니다."
   ]
  },
  {
   "cell_type": "markdown",
   "metadata": {},
   "source": [
    "# 재귀 함수(recursive function)\n",
    "\n",
    "재귀 함수는 함수 내부에서 자기 자신을 호출 하는 함수를 뜻합니다.\n",
    "\n",
    "알고리즘을 설계 및 구현에서 유용하게 활용됩니다."
   ]
  },
  {
   "cell_type": "markdown",
   "metadata": {},
   "source": [
    "## 팩토리얼 계산\n",
    "> 팩토리얼은 1부터 n 까지 양의 정수를 차례대로 곱한 값이며 `!` 기호로 표기합니다. 예를 들어 3!은 3 * 2 * 1이며 결과는 6 입니다.\n",
    ">\n",
    "> `팩토리얼(factorial)`을 계산하는 함수 `fact(n)`를 작성하세요. \n",
    ">\n",
    "> n은 1보다 큰 정수라고 가정하고, 팩토리얼을 계산한 값을 반환합니다.\n",
    "\n",
    "$$\n",
    "\\displaystyle n! = \\prod_{ k = 1 }^{ n }{ k }\n",
    "$$\n",
    "\n",
    "$$\n",
    "\\displaystyle n! = 1*2*3*...*(n-1)*n\n",
    "$$\n",
    "\n",
    "---\n",
    "```\n",
    "예시 출력)\n",
    "120\n",
    "```"
   ]
  },
  {
   "cell_type": "markdown",
   "metadata": {},
   "source": [
    "### 재귀를 이용한 팩토리얼 계산\n",
    "\n",
    "```\n",
    "1! = 1\n",
    "2! = 1 * 2 = 1! * 2 \n",
    "3! = 1 * 2 * 3 = 2! * 3\n",
    "```"
   ]
  },
  {
   "cell_type": "markdown",
   "metadata": {},
   "source": [
    "재귀 함수를 이용하여 다음 셀에 팩토리얼 함수를 직접 구현해봅시다.\n",
    "\n",
    "(점화식에 대한 고민을 통해 코드 구현을 연습합니다.)\n",
    "\n",
    "Case(1) = `1! = 1`\n",
    "\n",
    "Case(2) = `2! = 1 * 2` = Case(1) * 2\n",
    "\n",
    "Case(3) = `3! = 1 * 2 * 3` = Case(2) * 3\n",
    "\n",
    "...\n",
    "\n",
    "Case(N) = N! = 1 * 2 * 3 * ... * N = Case(N-1) * N => N-1 단계까지의 결과 * N\n",
    "\n",
    "이렇게 반복적인 구조 (이전 단계까지의 결과 * 현재 단계의 숫자)를 찾아내고, 이를 코드로 표현합니다.\n",
    "\n",
    "```python\n",
    "def 팩토리얼재귀(현재 단계의 숫자):\n",
    "    만약, 현재 단계가 1 단계라면?\n",
    "        더이상 재귀호출을 진행하지않고, 1을 반환합니다.\n",
    "    그렇지 않은 경우에는 (현재 단계의 숫자 * 이전 단계의 재귀 함수의 실행 결과)를 반환합니다.\n",
    "```"
   ]
  },
  {
   "cell_type": "code",
   "execution_count": 52,
   "metadata": {},
   "outputs": [],
   "source": [
    "def factorial(a):\n",
    "    if a == 1:\n",
    "        return 1\n",
    "    else:\n",
    "        return a * factorial(a-1)"
   ]
  },
  {
   "cell_type": "code",
   "execution_count": 53,
   "metadata": {},
   "outputs": [
    {
     "data": {
      "text/plain": [
       "120"
      ]
     },
     "execution_count": 53,
     "metadata": {},
     "output_type": "execute_result"
    }
   ],
   "source": [
    "# 해당 코드를 통해 올바른 결과가 나오는지 확인하세요.\n",
    "factorial(5)"
   ]
  },
  {
   "cell_type": "markdown",
   "metadata": {},
   "source": [
    "### 반복문을 이용한 팩토리얼 계산"
   ]
  },
  {
   "cell_type": "markdown",
   "metadata": {},
   "source": [
    "반복문으로 구현해봅시다.\n",
    "\n",
    "- 목표하는 n값 만큼 반복하여 곱을 누적합니다.\n",
    " \n",
    " \n",
    "```python\n",
    "def 팩토리얼반복(현재 단계의 숫자):\n",
    "    시작하는 숫자는 1\n",
    "    while문을 활용하여, n번만큼 결과에 곱을 누적합니다.\n",
    "    최종 결과를 리턴합니다.\n",
    "```"
   ]
  },
  {
   "cell_type": "code",
   "execution_count": null,
   "metadata": {},
   "outputs": [],
   "source": [
    "def fact(a):\n",
    "    num = 1\n",
    "    multiply = 1\n",
    "    while num <= a:\n",
    "        multiply = multiply * num\n",
    "        num += 1\n",
    "    return multiply\n",
    "\n",
    "fact(5)"
   ]
  },
  {
   "cell_type": "code",
   "execution_count": null,
   "metadata": {},
   "outputs": [],
   "source": [
    "# 해당 코드를 통해 올바른 결과가 나오는지 확인하세요.\n",
    "fact(5)"
   ]
  },
  {
   "cell_type": "markdown",
   "metadata": {},
   "source": [
    "## 반복문과 재귀함수\n",
    "```python\n",
    "factorial(3)\n",
    "3 * factorail(2)\n",
    "3 * 2 * factorial(1)\n",
    "3 * 2 * 1\n",
    "3 * 2\n",
    "6\n",
    "```\n",
    "\n",
    "* 두 코드 모두 원리는 같습니다.\n",
    "\n",
    "\n",
    "1. 반복문 코드\n",
    "    - n이 1보다 큰 경우 반복문을 돌며, n은 1씩 감소합니다. \n",
    "    - 마지막에 n이 1이면 더 이상 반복문을 돌지 않습니다.\n",
    "  \n",
    "  \n",
    "2. 재귀 함수 코드\n",
    "    - 재귀 함수를 호출하며, n은 1씩 감소합니다. \n",
    "    - 마지막에 n이 1이면 더 이상 추가 함수를 호출하지 않습니다.\n"
   ]
  },
  {
   "cell_type": "markdown",
   "metadata": {},
   "source": [
    "* 재귀함수는 기본적으로 같은 문제이지만 점점 범위가 줄어드는 문제를 풀게 됩니다.\n",
    "\n",
    "* 재귀함수를 작성시에는 반드시, `base case`가 존재 하여야 합니다. \n",
    "\n",
    "* `base case`는 점점 범위가 줄어들어 반복되지 않는 최종적으로 도달하는 곳을 의미합니다. \n",
    "\n",
    "* 재귀를 이용한 팩토리얼 계산에서의 base case는 **n이 1일때, 함수가 아닌 정수 반환하는 것**입니다."
   ]
  },
  {
   "cell_type": "markdown",
   "metadata": {},
   "source": [
    "* 자기 자신을 호출하는 재귀함수는 알고리즘 구현시 많이 사용됩니다.\n",
    "* 코드가 더 직관적이고 이해하기 쉬운 경우가 있습니다. \n",
    "* 팩토리얼 재귀함수를 [Python Tutor](https://goo.gl/k1hQYz)에서 확인해보면, 함수가 호출될 때마다 메모리 공간에 쌓이는 것을 볼 수 있습니다.\n",
    "* 이 경우, 메모리 스택이 넘치거나(Stack overflow) 프로그램 실행 속도가 늘어지는 단점이 생깁니다.\n",
    "* 파이썬에서는 이를 방지하기 위해 1,000번이 넘어가게 되면 더이상 함수를 호출하지 않고, 종료됩니다. (최대 재귀 깊이)"
   ]
  },
  {
   "cell_type": "markdown",
   "metadata": {},
   "source": [
    "### 최대 재귀 깊이\n",
    "\n",
    "\n",
    "```python\n",
    "def ssafy():\n",
    "    print('Hello, ssafy!')\n",
    "    ssafy()\n",
    " \n",
    "ssafy()\n",
    "```\n",
    "---\n",
    "\n",
    "`ssafy()`를 호출하면 아래와 같이 문자열이 계속 출력되다가 RecursionError가 발생합니다.\n",
    "\n",
    "파이썬에서는 최대 재귀 깊이(maximum recursion depth)가 1,000으로 정해져 있기 때문입니다.\n",
    "\n",
    "주피터 노트북은 커널이 종료되어 확인하기 어렵습니다.\n",
    "\n",
    "---\n",
    "\n",
    "```bash\n",
    "Hello, world!\n",
    "Hello, world!\n",
    "...\n",
    "Hello, world!\n",
    "---------------------------------------------------------------------------\n",
    "RecursionError                            Traceback (most recent call last)\n",
    "\n",
    "...\n",
    "\n",
    "      1 def hello():\n",
    "      2     print('Hello, world!')\n",
    "----> 3     hello()\n",
    "      4 \n",
    "      5 hello()\n",
    "\n",
    "RecursionError: maximum recursion depth exceeded while calling a Python object\n",
    "```"
   ]
  },
  {
   "cell_type": "markdown",
   "metadata": {},
   "source": [
    "## [실습] 피보나치 수열\n",
    "\n",
    "첫째 및 둘째 항이 1이며 그 뒤의 모든 항은 바로 앞 두 항의 합인 수열입니다. \n",
    "\n",
    "(0), 1, 1, 2, 3, 5, 8\n",
    "\n",
    "> 피보나치 수열은 다음과 같은 점화식이 있습니다. \n",
    ">\n",
    "> 피보나치 값을 리턴하는 두가지 방식의 코드를 모두 작성해주세요.\n",
    ">\n",
    "\n",
    "$$\n",
    "\\displaystyle F_0 = 0\n",
    "$$\n",
    "\n",
    "\n",
    "$$\n",
    "\\displaystyle F_1 = 1\n",
    "$$\n",
    "\n",
    "$$\n",
    "F_n=F_{n-1}+F_{n-2}\\qquad(n\\in\\{2,3,4,\\dots\\})\n",
    "$$\n",
    "\n",
    "1) `fib(n)` : 재귀함수\n",
    "\n",
    "2) `fib_loop(n)` : 반복문 활용한 함수\n",
    "\n",
    "---\n",
    "```\n",
    "예시 입력)\n",
    "fib(10)\n",
    "\n",
    "예시 호출)\n",
    "55\n",
    "```"
   ]
  },
  {
   "cell_type": "markdown",
   "metadata": {},
   "source": [
    "재귀 함수를 활용하여, fib 라는 이름의 피보나치 수열 함수를 작성하세요.\n",
    "\n",
    "(점화식에 대한 고민을 통해 코드 구현을 연습합니다.)\n",
    "\n",
    "Case(0) = 0\n",
    "\n",
    "Case(1) = 1\n",
    "\n",
    "Case(2) = Case(1) + Case(0) = 1\n",
    "\n",
    "Case(3) = Case(2) + Case(1)\n",
    "\n",
    "...\n",
    "\n",
    "Case(N) = Case(N-1) + Case(N-2)\n",
    "\n",
    "(현재 단계 = 바로 전 단계 + 바로 전전 단계)의 식을 코드로 표현합니다!\n",
    "\n",
    "```python\n",
    "def 피보나치재귀(현재단계):\n",
    "    만약, 현재단계가 2단계보다 작으면\n",
    "        그냥 현재 단계를 반환합니다.\n",
    "    그렇지 않다면,\n",
    "        전단계의 재귀함수 + 전전단계의 재귀함수 의 결과를 반환합니다.\n",
    "```"
   ]
  },
  {
   "cell_type": "code",
   "execution_count": 1,
   "metadata": {},
   "outputs": [],
   "source": [
    "# \n",
    "def fib(n):\n",
    "    if n < 2:\n",
    "        return n\n",
    "    else:\n",
    "        return fib(n-1) + fib(n-2)"
   ]
  },
  {
   "cell_type": "code",
   "execution_count": 2,
   "metadata": {},
   "outputs": [
    {
     "data": {
      "text/plain": [
       "55"
      ]
     },
     "execution_count": 2,
     "metadata": {},
     "output_type": "execute_result"
    }
   ],
   "source": [
    "fib(10)"
   ]
  },
  {
   "cell_type": "markdown",
   "metadata": {},
   "source": [
    "반복문(for문)을 활용하여, fib_loop라는 이름의 피보나치 수열 함수를 작성하세요.\n",
    "\n",
    "반복문으로 구현해봅시다.\n",
    "- 모든 Case의 결과를 리스트에 누적하는 방식으로 계산합니다.\n",
    "\n",
    "```python\n",
    "def 피보나치반복(현재단계):\n",
    "    만약, 입력된 단계가 2보다 작다면\n",
    "        입력된 단계를 그대로 리턴!\n",
    "\n",
    "    결과를 저장할 기본 리스트([0, 1])를 준비 (각각 Case(0)와 Case(1)의 결과)\n",
    "    반복문을 시작(2부터 시작, N까지)\n",
    "        마지막 2개의 요소들의 합을 리스트에 추가\n",
    "\n",
    "    리스트의 마지막 값을 반환\n",
    "``` "
   ]
  },
  {
   "cell_type": "code",
   "execution_count": null,
   "metadata": {},
   "outputs": [],
   "source": [
    "def fib_loop(a):\n",
    "    if a < 2:\n",
    "        return a\n",
    "    ans_list = [0,1]\n",
    "    for i in range(2, a+1):\n",
    "        "
   ]
  },
  {
   "cell_type": "code",
   "execution_count": null,
   "metadata": {},
   "outputs": [],
   "source": [
    "# 해당 코드를 통해 올바른 결과가 나오는지 확인하세요.\n",
    "fib_loop(10)"
   ]
  },
  {
   "cell_type": "markdown",
   "metadata": {},
   "source": [
    "이번에는 리스트를 사용 하지 않고 반복문(for문)을 활용하여 fib_loop2()을 작성하세요.\n",
    "\n",
    "- 반드시 리스트로 모든 값을 저장할 필요가 있을까요?\n",
    "- 실제로 매 반복문 마다 필요한 값은 (마지막 2개의 요소)였습니다.\n",
    "- 그렇기 때문에 변수 2개에 값을 변경 & 덮어쓰기 하면서 로직을 구성할 수 있습니다!\n",
    "\n",
    "```python\n",
    "def 피보나치반복(현재단계):\n",
    "    만약, 입력된 단계가 2보다 작다면\n",
    "        입력된 단계를 그대로 리턴!\n",
    "\n",
    "    결과를 저장할 변수를 2개 준비 (각각 Case(0)단계와 Case(1)단계의 결과를 의미)\n",
    "    반복문을 시작(0부터 N-2까지)\n",
    "        전 단계의 값과 전전 단계의 값의 합을 전 단계에 덮어쓰기하면서, 동시에 원래가지고 있던 전 단계 값을 전전 단계에 저장\n",
    "\n",
    "    마지막 결과 값을 반환!\n",
    "```"
   ]
  },
  {
   "cell_type": "code",
   "execution_count": null,
   "metadata": {},
   "outputs": [],
   "source": []
  },
  {
   "cell_type": "code",
   "execution_count": null,
   "metadata": {},
   "outputs": [],
   "source": []
  },
  {
   "cell_type": "code",
   "execution_count": null,
   "metadata": {},
   "outputs": [],
   "source": [
    "# 반복문(while 문)을 이용한 코드 fib_while()을 작성하세요.\n",
    "# 알고리즘을 구현하는 코드는 여러가지 방식이 있을 수 있습니다."
   ]
  },
  {
   "cell_type": "code",
   "execution_count": null,
   "metadata": {},
   "outputs": [],
   "source": []
  },
  {
   "cell_type": "markdown",
   "metadata": {},
   "source": [
    "## 반복문과 재귀 함수의 차이\n",
    "\n",
    "* 알고리즘 자체가 재귀적인 표현이 자연스러운 경우 재귀함수를 사용합니다.\n",
    "* 재귀 호출은 `변수 사용` 을 줄여줄 수 있습니다."
   ]
  },
  {
   "cell_type": "code",
   "execution_count": null,
   "metadata": {},
   "outputs": [],
   "source": [
    "# 재귀 호출은 입력 값이 커질 수록 연산 속도가 오래걸립니다.\n",
    "# fib() 함수에 10 이상의 값을 넣어보고 실행한 뒤 연산 시간을 확인해봅시다."
   ]
  },
  {
   "cell_type": "code",
   "execution_count": 3,
   "metadata": {},
   "outputs": [
    {
     "name": "stdout",
     "output_type": "stream",
     "text": [
      "0.0\n"
     ]
    }
   ],
   "source": [
    "import time\n",
    "\n",
    "t0 = time.time()\n",
    "fib(10)\n",
    "t1 = time.time()\n",
    "\n",
    "total = t1 - t0\n",
    "print(total)"
   ]
  },
  {
   "cell_type": "code",
   "execution_count": null,
   "metadata": {},
   "outputs": [],
   "source": [
    "# 반복문은 재귀로 구현된 함수보다 연산 속도가 빠른 편입니다.\n",
    "# fib_loop() 함수에 10 이상의 값을 넣어보고 실행한 뒤 연산 시간을 확인해봅시다.\n",
    "# 그리고 100배 더 큰 1000 이상의 값도 넣어보고 실행한 뒤 연산 시간을 확인해봅시다."
   ]
  },
  {
   "cell_type": "code",
   "execution_count": 4,
   "metadata": {},
   "outputs": [
    {
     "ename": "NameError",
     "evalue": "name 'fib_loop' is not defined",
     "output_type": "error",
     "traceback": [
      "\u001b[1;31m---------------------------------------------------------------------------\u001b[0m",
      "\u001b[1;31mNameError\u001b[0m                                 Traceback (most recent call last)",
      "Input \u001b[1;32mIn [4]\u001b[0m, in \u001b[0;36m<module>\u001b[1;34m\u001b[0m\n\u001b[0;32m      1\u001b[0m \u001b[38;5;28;01mimport\u001b[39;00m \u001b[38;5;21;01mtime\u001b[39;00m\n\u001b[0;32m      3\u001b[0m t0 \u001b[38;5;241m=\u001b[39m time\u001b[38;5;241m.\u001b[39mtime()\n\u001b[1;32m----> 4\u001b[0m \u001b[43mfib_loop\u001b[49m(\u001b[38;5;241m1000\u001b[39m)\n\u001b[0;32m      5\u001b[0m t1 \u001b[38;5;241m=\u001b[39m time\u001b[38;5;241m.\u001b[39mtime()\n\u001b[0;32m      7\u001b[0m total \u001b[38;5;241m=\u001b[39m t1 \u001b[38;5;241m-\u001b[39m t0\n",
      "\u001b[1;31mNameError\u001b[0m: name 'fib_loop' is not defined"
     ]
    }
   ],
   "source": [
    "import time\n",
    "\n",
    "t0 = time.time()\n",
    "fib_loop(1000)\n",
    "t1 = time.time()\n",
    "\n",
    "total = t1 - t0\n",
    "print(total)"
   ]
  },
  {
   "cell_type": "markdown",
   "metadata": {},
   "source": [
    "## 함수 응용"
   ]
  },
  {
   "cell_type": "markdown",
   "metadata": {},
   "source": [
    "## `map(function, iterable)`\n",
    "\n",
    "* 순회가능한 데이터 구조(iterable)의 모든 요소에 function을 적용한 후 그 결과를 돌려준다. \n",
    "\n",
    "\n",
    "* return은 `map_object` 형태이다."
   ]
  },
  {
   "cell_type": "code",
   "execution_count": 10,
   "metadata": {},
   "outputs": [],
   "source": [
    "numbers = [1, 2, 3]\n",
    "\n",
    "# 위의 변수 numbers를 문자열 '123'으로 만드세요. (join 메서드 활용)"
   ]
  },
  {
   "cell_type": "code",
   "execution_count": null,
   "metadata": {},
   "outputs": [],
   "source": [
    "# List comprehension 활용"
   ]
  },
  {
   "cell_type": "code",
   "execution_count": 15,
   "metadata": {
    "scrolled": true
   },
   "outputs": [],
   "source": [
    "new_numbers = ''.join([str(number) for number in numbers])"
   ]
  },
  {
   "cell_type": "code",
   "execution_count": 16,
   "metadata": {},
   "outputs": [
    {
     "name": "stdout",
     "output_type": "stream",
     "text": [
      "123\n"
     ]
    }
   ],
   "source": [
    "print(new_numbers)"
   ]
  },
  {
   "cell_type": "code",
   "execution_count": null,
   "metadata": {},
   "outputs": [],
   "source": [
    "# map() 활용"
   ]
  },
  {
   "cell_type": "code",
   "execution_count": 27,
   "metadata": {},
   "outputs": [],
   "source": [
    "new_numbers = ''.join(list(map(str, numbers)))"
   ]
  },
  {
   "cell_type": "code",
   "execution_count": 28,
   "metadata": {},
   "outputs": [
    {
     "name": "stdout",
     "output_type": "stream",
     "text": [
      "123\n"
     ]
    }
   ],
   "source": [
    "print(new_numbers)"
   ]
  },
  {
   "cell_type": "markdown",
   "metadata": {},
   "source": [
    "`map()` 함수는 입력값을 처리할 때 자주 활용합니다."
   ]
  },
  {
   "cell_type": "code",
   "execution_count": 20,
   "metadata": {},
   "outputs": [],
   "source": [
    "numbers = ['1', '2', '3']\n",
    "\n",
    "# 위의 변수 numbers를 정수로 구성된 리스트 [1, 2, 3]으로 만드세요."
   ]
  },
  {
   "cell_type": "code",
   "execution_count": null,
   "metadata": {},
   "outputs": [],
   "source": [
    "# List comprehension 활용"
   ]
  },
  {
   "cell_type": "code",
   "execution_count": 21,
   "metadata": {},
   "outputs": [],
   "source": [
    "new_numbers = [int(num) for num in numbers]"
   ]
  },
  {
   "cell_type": "code",
   "execution_count": 22,
   "metadata": {},
   "outputs": [
    {
     "name": "stdout",
     "output_type": "stream",
     "text": [
      "[1, 2, 3]\n"
     ]
    }
   ],
   "source": [
    "print(new_numbers)"
   ]
  },
  {
   "cell_type": "code",
   "execution_count": null,
   "metadata": {},
   "outputs": [],
   "source": [
    "# map() 활용"
   ]
  },
  {
   "cell_type": "code",
   "execution_count": 23,
   "metadata": {},
   "outputs": [],
   "source": [
    "new_numbers = list(map(int, numbers))"
   ]
  },
  {
   "cell_type": "code",
   "execution_count": 24,
   "metadata": {},
   "outputs": [
    {
     "name": "stdout",
     "output_type": "stream",
     "text": [
      "[1, 2, 3]\n"
     ]
    }
   ],
   "source": [
    "print(new_numbers)"
   ]
  },
  {
   "cell_type": "markdown",
   "metadata": {},
   "source": [
    "첫번째 인자 function은 사용자 정의 함수도 가능합니다."
   ]
  },
  {
   "cell_type": "code",
   "execution_count": 29,
   "metadata": {},
   "outputs": [],
   "source": [
    "# 세제곱의 결과를 나타내는 함수가 있습니다.\n",
    "def cube(n):\n",
    "    return n ** 3"
   ]
  },
  {
   "cell_type": "code",
   "execution_count": 30,
   "metadata": {},
   "outputs": [],
   "source": [
    "# 세제곱 함수를 각각의 요소에 적용한 결과값을 구해봅시다.\n",
    "numbers = [1, 2, 3]"
   ]
  },
  {
   "cell_type": "code",
   "execution_count": 31,
   "metadata": {},
   "outputs": [],
   "source": [
    "new_numbers = list(map(cube, numbers))"
   ]
  },
  {
   "cell_type": "code",
   "execution_count": 32,
   "metadata": {},
   "outputs": [
    {
     "name": "stdout",
     "output_type": "stream",
     "text": [
      "[1, 8, 27]\n"
     ]
    }
   ],
   "source": [
    "print(new_numbers)"
   ]
  },
  {
   "cell_type": "markdown",
   "metadata": {},
   "source": [
    "### [연습] 코딩 테스트의 기본\n",
    "\n",
    "> 두 정수를 입력 받아 더한 값을 출력하세요.\n",
    "\n",
    "**[입력 예시]**\n",
    "\n",
    "3 5\n",
    "\n",
    "---\n",
    "\n",
    "**[출력 예시]**\n",
    "\n",
    "8"
   ]
  },
  {
   "cell_type": "code",
   "execution_count": 1,
   "metadata": {},
   "outputs": [
    {
     "name": "stdout",
     "output_type": "stream",
     "text": [
      "3 5\n",
      "8\n"
     ]
    }
   ],
   "source": [
    "# 아래에 코드를 작성하세요.\n",
    "numbers = list(map(int, input().split()))\n",
    "total = 0\n",
    "for num in numbers:\n",
    "    total += num\n",
    "print(total)"
   ]
  },
  {
   "cell_type": "markdown",
   "metadata": {},
   "source": [
    "## `filter(function, iterable)`\n",
    "\n",
    "* iterable에서 function의 반환된 결과가 `True` 인 것들만 구성하여 반환합니다.\n",
    "\n",
    "\n",
    "* `filter object` 를 반환합니다."
   ]
  },
  {
   "cell_type": "code",
   "execution_count": null,
   "metadata": {},
   "outputs": [],
   "source": [
    "# 특정 list에서 홀수만을 걸러내는 코드를 작성해봅시다."
   ]
  },
  {
   "cell_type": "code",
   "execution_count": 41,
   "metadata": {},
   "outputs": [],
   "source": [
    "# 홀수를 판별하는 함수가 있습니다.\n",
    "def odd(n):\n",
    "    return n % 2"
   ]
  },
  {
   "cell_type": "code",
   "execution_count": 42,
   "metadata": {},
   "outputs": [],
   "source": [
    "# 홀수인 요소만 뽑아 new_numbers에 저장합니다.\n",
    "numbers = [1, 2, 3]"
   ]
  },
  {
   "cell_type": "code",
   "execution_count": 43,
   "metadata": {},
   "outputs": [],
   "source": [
    "new_numbers = list(filter(odd, numbers))"
   ]
  },
  {
   "cell_type": "code",
   "execution_count": 44,
   "metadata": {},
   "outputs": [
    {
     "name": "stdout",
     "output_type": "stream",
     "text": [
      "[1, 3]\n"
     ]
    }
   ],
   "source": [
    "print(new_numbers)"
   ]
  },
  {
   "cell_type": "code",
   "execution_count": null,
   "metadata": {},
   "outputs": [],
   "source": [
    "# 다음의 list comprehension과 동일합니다."
   ]
  },
  {
   "cell_type": "code",
   "execution_count": 47,
   "metadata": {},
   "outputs": [
    {
     "name": "stdout",
     "output_type": "stream",
     "text": [
      "[1, 3]\n"
     ]
    }
   ],
   "source": [
    "new_numbers = [num for num in numbers if num % 2 == 1]\n",
    "print(new_numbers)"
   ]
  },
  {
   "cell_type": "markdown",
   "metadata": {},
   "source": [
    "## `zip(*iterables)` \n",
    "\n",
    "* 복수의 iterable 객체를 모아(`zip()`)줍니다.\n",
    "\n",
    "\n",
    "* 결과는 튜플의 모음으로 구성된 `zip object` 를 반환합니다."
   ]
  },
  {
   "cell_type": "code",
   "execution_count": 48,
   "metadata": {},
   "outputs": [],
   "source": [
    "girls = ['jane', 'ashley', 'mary']\n",
    "boys = ['justin', 'eric', 'david']"
   ]
  },
  {
   "cell_type": "code",
   "execution_count": null,
   "metadata": {},
   "outputs": [],
   "source": [
    "# zip() 활용하여 짝을 맞추어 본다."
   ]
  },
  {
   "cell_type": "code",
   "execution_count": 49,
   "metadata": {},
   "outputs": [],
   "source": [
    "pair = list(zip(girls, boys))"
   ]
  },
  {
   "cell_type": "code",
   "execution_count": 50,
   "metadata": {},
   "outputs": [
    {
     "name": "stdout",
     "output_type": "stream",
     "text": [
      "[('jane', 'justin'), ('ashley', 'eric'), ('mary', 'david')]\n"
     ]
    }
   ],
   "source": [
    "print(pair)"
   ]
  },
  {
   "cell_type": "code",
   "execution_count": null,
   "metadata": {},
   "outputs": [],
   "source": []
  },
  {
   "cell_type": "markdown",
   "metadata": {},
   "source": [
    "## lambda 함수\n",
    "\n",
    "* 표현식을 계산한 결과 값을 반환하는 함수로, 이름이 없는 함수여서 익명함수라고도 불립니다.\n",
    "\n",
    "* return 문을 가질 수 없고, 간단한 조건문 외의 구성이 어렵습니다.\n",
    "\n",
    "* 함수를 정의해서 사용하는 것보다 간결하게 사용 가능합니다.\n",
    "\n",
    "```python\n",
    "\n",
    "def triangle_area(b, h):\n",
    "    return 0.5 * b * h\n",
    "\n",
    "lambda b, h: 0.5 * b * h\n",
    "```"
   ]
  },
  {
   "cell_type": "code",
   "execution_count": 51,
   "metadata": {},
   "outputs": [
    {
     "data": {
      "text/plain": [
       "[1, 0, 1]"
      ]
     },
     "execution_count": 51,
     "metadata": {},
     "output_type": "execute_result"
    }
   ],
   "source": [
    "# 아래와 같이 간단한 함수를 정의해서 사용하는 것이 아니라 간결하게 사용 가능합니다.\n",
    "list(map(lambda n: n%2, [1, 2, 3]))"
   ]
  },
  {
   "cell_type": "code",
   "execution_count": 1,
   "metadata": {},
   "outputs": [
    {
     "data": {
      "text/plain": [
       "[3.14, 12.56, 28.26]"
      ]
     },
     "execution_count": 1,
     "metadata": {},
     "output_type": "execute_result"
    }
   ],
   "source": [
    "def circle_area(a):\n",
    "    return a* a* 3.14\n",
    "\n",
    "list(map(lambda a: a*a*3.14, [1,2,3]))"
   ]
  }
 ],
 "metadata": {
  "kernelspec": {
   "display_name": "Python 3 (ipykernel)",
   "language": "python",
   "name": "python3"
  },
  "language_info": {
   "codemirror_mode": {
    "name": "ipython",
    "version": 3
   },
   "file_extension": ".py",
   "mimetype": "text/x-python",
   "name": "python",
   "nbconvert_exporter": "python",
   "pygments_lexer": "ipython3",
   "version": "3.9.9"
  },
  "toc": {
   "base_numbering": 1,
   "nav_menu": {},
   "number_sections": true,
   "sideBar": true,
   "skip_h1_title": false,
   "title_cell": "Table of Contents",
   "title_sidebar": "Contents",
   "toc_cell": false,
   "toc_position": {},
   "toc_section_display": true,
   "toc_window_display": false
  },
  "toc-autonumbering": false,
  "toc-showcode": false,
  "toc-showmarkdowntxt": false,
  "toc-showtags": false
 },
 "nbformat": 4,
 "nbformat_minor": 4
}
