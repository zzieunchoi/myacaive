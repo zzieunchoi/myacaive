{
 "cells": [
  {
   "cell_type": "markdown",
   "metadata": {},
   "source": [
    "# Practice 1\n",
    "\n",
    "> 복잡한 자료구조의 (2차원 리스트) 반복문"
   ]
  },
  {
   "cell_type": "markdown",
   "metadata": {},
   "source": [
    "## 복잡한 리스트의 합\n",
    "\n",
    "> 2차원 리스트를 반복하는 방법을 알아봅시다. \n",
    "\n",
    "\n",
    "* 주어진 아래의 리스트를 반복하여 숫자의 합을 반환하시오.\n",
    "\n",
    "---\n",
    "**예시 입력**\n",
    "\n",
    "```python\n",
    "numbers = [\n",
    "    [1, 4],\n",
    "    [10, 5],\n",
    "    [20, 30]    \n",
    "]\n",
    "\n",
    "```\n",
    "\n",
    "**예시 출력**\n",
    "```python\n",
    "sum_list([[1, 4], [10, 5], [20, 30]]) # 70\n",
    "```"
   ]
  },
  {
   "cell_type": "markdown",
   "metadata": {},
   "source": [
    "### for 문을 활용하여 풀이하기\n",
    "\n",
    "```python\n",
    "for element in list:\n",
    "```"
   ]
  },
  {
   "cell_type": "code",
   "execution_count": null,
   "metadata": {},
   "outputs": [],
   "source": [
    "# 아래에 코드를 작성하세요.\n",
    "def sum_list(numbers):\n",
    "    ##"
   ]
  },
  {
   "cell_type": "code",
   "execution_count": null,
   "metadata": {},
   "outputs": [],
   "source": [
    "print(sum_list([[1, 4], [10, 5], [20, 30]]))"
   ]
  },
  {
   "cell_type": "markdown",
   "metadata": {},
   "source": [
    "### Index로 접근하여 풀이하기\n",
    "\n",
    "```python\n",
    "for element in range(len(list)):\n",
    "```"
   ]
  },
  {
   "cell_type": "code",
   "execution_count": null,
   "metadata": {},
   "outputs": [],
   "source": [
    "# 아래에 코드를 작성하세요.\n",
    "def sum_list_index(numbers):\n",
    "    ##"
   ]
  },
  {
   "cell_type": "code",
   "execution_count": null,
   "metadata": {},
   "outputs": [],
   "source": [
    "print(sum_list_index([[1, 4], [10, 5], [20, 30]]))"
   ]
  },
  {
   "cell_type": "markdown",
   "metadata": {},
   "source": [
    "### while 문을 활용하여 풀이하기\n",
    "\n",
    "```python\n",
    "while ____:\n",
    "```"
   ]
  },
  {
   "cell_type": "code",
   "execution_count": null,
   "metadata": {},
   "outputs": [],
   "source": [
    "## 아래에 코드를 작성하세요.\n",
    "def sum_list_while(numbers):\n",
    "    ##"
   ]
  },
  {
   "cell_type": "code",
   "execution_count": null,
   "metadata": {},
   "outputs": [],
   "source": [
    "print(sum_list_while([[1, 4], [10, 5], [20, 30]]))"
   ]
  },
  {
   "cell_type": "markdown",
   "metadata": {},
   "source": [
    "## 시험 점수\n",
    "\n",
    "> 2차원 배열\n",
    "\n",
    "\n",
    "* A반 학생들의 점수는 아래와 같고, students 리스트에 저장되어 있다.\n",
    "\n",
    "    * A학생(국어 100점, 수학 80점, 영어 100점)\n",
    "    * B학생(국어 90점, 수학 90점, 영어 60점)\n",
    "    * C학생(국어 80점, 수학 80점, 영어 80점)\n",
    "\n",
    "```python\n",
    "students = [\n",
    " [100, 80, 100],\n",
    " [90, 90, 60],\n",
    " [80, 80, 80]\n",
    "]\n",
    "```"
   ]
  },
  {
   "cell_type": "markdown",
   "metadata": {},
   "source": [
    "### 학생별 출력\n",
    "\n",
    "* 아래의 리스트를 반복하여 **학생별 총합**을 순서대로 `출력`하시오.\n",
    "\n",
    "* `sum` 함수 사용 금지\n",
    "\n",
    "---\n",
    "**예시 입력**\n",
    "\n",
    "```python\n",
    "students = [\n",
    " [100, 80, 100],\n",
    " [90, 90, 60],\n",
    " [80, 80, 80]\n",
    "]\n",
    "```\n",
    "\n",
    "**예시 출력**\n",
    "```\n",
    "280\n",
    "240\n",
    "240\n",
    "```"
   ]
  },
  {
   "cell_type": "code",
   "execution_count": null,
   "metadata": {},
   "outputs": [],
   "source": [
    "students = [\n",
    " [100, 80, 100],\n",
    " [90, 90, 60],\n",
    " [80, 80, 80]\n",
    "]"
   ]
  },
  {
   "cell_type": "code",
   "execution_count": null,
   "metadata": {},
   "outputs": [],
   "source": [
    "# 아래에 풀이를 작성하세요. 함수 정의는 필요없습니다."
   ]
  },
  {
   "cell_type": "markdown",
   "metadata": {},
   "source": [
    "### 과목별 출력\n",
    "\n",
    "* 아래의 리스트를 반복하여 **과목별 총합**을 순서대로 `출력`하시오.\n",
    "* `sum` 함수 사용 금지\n",
    "\n",
    "---\n",
    "**예시 입력**\n",
    "\n",
    "```python\n",
    "students = [\n",
    " [100, 80, 100],\n",
    " [90, 90, 60],\n",
    " [80, 80, 80]\n",
    "]\n",
    "```\n",
    "\n",
    "**예시 출력**\n",
    "```\n",
    "270\n",
    "250\n",
    "240\n",
    "```"
   ]
  },
  {
   "cell_type": "code",
   "execution_count": null,
   "metadata": {},
   "outputs": [],
   "source": [
    "students = [\n",
    " [100, 80, 100],\n",
    " [90, 90, 60],\n",
    " [80, 80, 80]\n",
    "]"
   ]
  },
  {
   "cell_type": "code",
   "execution_count": null,
   "metadata": {},
   "outputs": [],
   "source": [
    "# 아래에 풀이를 작성하세요. 함수 정의는 필요없습니다."
   ]
  }
 ],
 "metadata": {
  "kernelspec": {
   "display_name": "Python 3 (ipykernel)",
   "language": "python",
   "name": "python3"
  },
  "language_info": {
   "codemirror_mode": {
    "name": "ipython",
    "version": 3
   },
   "file_extension": ".py",
   "mimetype": "text/x-python",
   "name": "python",
   "nbconvert_exporter": "python",
   "pygments_lexer": "ipython3",
   "version": "3.9.9"
  },
  "toc": {
   "base_numbering": 1,
   "nav_menu": {},
   "number_sections": true,
   "sideBar": true,
   "skip_h1_title": false,
   "title_cell": "Table of Contents",
   "title_sidebar": "Contents",
   "toc_cell": false,
   "toc_position": {},
   "toc_section_display": true,
   "toc_window_display": true
  }
 },
 "nbformat": 4,
 "nbformat_minor": 4
}
